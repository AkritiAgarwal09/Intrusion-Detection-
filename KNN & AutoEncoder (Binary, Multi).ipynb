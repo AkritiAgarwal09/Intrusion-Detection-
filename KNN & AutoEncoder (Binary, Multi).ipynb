{
 "cells": [
  {
   "cell_type": "code",
   "execution_count": 1,
   "metadata": {
    "id": "7MblIbMu31gO"
   },
   "outputs": [],
   "source": [
    "from sklearn.metrics import accuracy_score # for calculating accuracy of model\n",
    "from sklearn.model_selection import train_test_split # for splitting the dataset for training and testing\n",
    "from sklearn.metrics import classification_report # for generating a classification report of model\n",
    "import pickle # saving and loading trained model\n",
    "from os import path\n",
    "import numpy as np\n",
    "import pandas as pd\n",
    "import matplotlib.pyplot as plt"
   ]
  },
  {
   "cell_type": "code",
   "execution_count": 34,
   "metadata": {
    "id": "DriCvhiI4JTH"
   },
   "outputs": [],
   "source": [
    "bin_data = pd.read_csv('datasets/bin_data.csv')\n",
    "bin_data.drop(bin_data.columns[0],axis=1,inplace=True)\n",
    "multi_data = pd.read_csv('datasets/multi_data.csv')\n",
    "multi_data.drop(multi_data.columns[0],axis=1,inplace=True)\n",
    "le1_classes_ = np.load('labels/le1_classes.npy',allow_pickle=True)\n",
    "le2_classes_ = np.load('le2_classes.npy',allow_pickle=True)"
   ]
  },
  {
   "cell_type": "markdown",
   "metadata": {
    "id": "7bnFgn5XB_mD"
   },
   "source": [
    "# **K-nearest-neighbor Classifier (Binary Classification)**"
   ]
  },
  {
   "cell_type": "code",
   "execution_count": 25,
   "metadata": {
    "id": "CmdUXiaiB8K9"
   },
   "outputs": [],
   "source": [
    "# importing library for K-neares-neighbor classifier\n",
    "from sklearn.neighbors import KNeighborsClassifier"
   ]
  },
  {
   "cell_type": "code",
   "execution_count": 26,
   "metadata": {
    "colab": {
     "base_uri": "https://localhost:8080/"
    },
    "id": "AlJRTC_MCjoZ",
    "outputId": "ab206f5b-99f5-44ee-811f-c20ea715cde7"
   },
   "outputs": [
    {
     "data": {
      "text/plain": [
       "KNeighborsClassifier(algorithm='auto', leaf_size=30, metric='minkowski',\n",
       "                     metric_params=None, n_jobs=None, n_neighbors=5, p=2,\n",
       "                     weights='uniform')"
      ]
     },
     "execution_count": 26,
     "metadata": {
      "tags": []
     },
     "output_type": "execute_result"
    }
   ],
   "source": [
    "knn=KNeighborsClassifier(n_neighbors=5) # creating model for 5 neighbors\n",
    "knn.fit(X_train,y_train) # training model on training dataset"
   ]
  },
  {
   "cell_type": "code",
   "execution_count": null,
   "metadata": {
    "colab": {
     "base_uri": "https://localhost:8080/"
    },
    "id": "b7sDNWHBFG49",
    "outputId": "b2b57879-1ca9-4991-c669-f6dcbced70a2"
   },
   "outputs": [
    {
     "name": "stdout",
     "output_type": "stream",
     "text": [
      "Saved model to disk\n",
      "Loaded model from disk\n"
     ]
    }
   ],
   "source": [
    "pkl_filename = \"./models/knn_binary.pkl\"\n",
    "if (not path.isfile(pkl_filename)):\n",
    "  # saving the trained model to disk\n",
    "  with open(pkl_filename, 'wb') as file:\n",
    "    pickle.dump(knn, file)\n",
    "  print(\"Saved model to disk\")\n",
    "  # loading the trained model from disk\n",
    "  with open(pkl_filename, 'rb') as file:\n",
    "    knn = pickle.load(file)\n",
    "  print(\"Loaded model from disk\")"
   ]
  },
  {
   "cell_type": "code",
   "execution_count": 27,
   "metadata": {
    "colab": {
     "base_uri": "https://localhost:8080/"
    },
    "id": "VhDTePIsBm-t",
    "outputId": "036555c6-90a4-4cab-fada-9c55491864b7"
   },
   "outputs": [
    {
     "name": "stdout",
     "output_type": "stream",
     "text": [
      "KNN-Classifier Binary Set-Accuracy is  98.54892995491204\n"
     ]
    }
   ],
   "source": [
    "y_pred=knn.predict(X_test) # predicting target attribute on testing dataset\n",
    "ac=accuracy_score(y_test, y_pred)*100 # calculating accuracy of predicted data\n",
    "print(\"KNN-Classifier Binary Set-Accuracy is \", ac)"
   ]
  },
  {
   "cell_type": "code",
   "execution_count": 28,
   "metadata": {
    "colab": {
     "base_uri": "https://localhost:8080/"
    },
    "id": "cSzvTXikg2pA",
    "outputId": "d3d01b41-937f-459f-8f9b-6a0c7e99d63b"
   },
   "outputs": [
    {
     "name": "stdout",
     "output_type": "stream",
     "text": [
      "              precision    recall  f1-score   support\n",
      "\n",
      "    abnormal       0.99      0.98      0.98     14720\n",
      "      normal       0.99      0.99      0.99     16774\n",
      "\n",
      "    accuracy                           0.99     31494\n",
      "   macro avg       0.99      0.99      0.99     31494\n",
      "weighted avg       0.99      0.99      0.99     31494\n",
      "\n"
     ]
    }
   ],
   "source": [
    "# classification report\n",
    "print(classification_report(y_test, y_pred,target_names=le1_classes_))"
   ]
  },
  {
   "cell_type": "markdown",
   "metadata": {
    "id": "A2mFGsLLkzvr"
   },
   "source": [
    "# **Auto Encoder Classifier (Binary Classification)**"
   ]
  },
  {
   "cell_type": "code",
   "execution_count": null,
   "metadata": {
    "id": "Jteo7lYCC9eV"
   },
   "outputs": [],
   "source": [
    "from keras.layers import Input\n",
    "from keras.models import Model"
   ]
  },
  {
   "cell_type": "code",
   "execution_count": null,
   "metadata": {
    "id": "7uaj0DBK6HkN"
   },
   "outputs": [],
   "source": [
    "# splitting the dataset 75% for training and 25% testing\n",
    "X_train, X_test = train_test_split(bin_data, test_size=0.25, random_state=42)"
   ]
  },
  {
   "cell_type": "code",
   "execution_count": null,
   "metadata": {
    "id": "-12iPEfcGzHi"
   },
   "outputs": [],
   "source": [
    "# dataset excluding target attribute (encoded, one-hot-encoded,original)\n",
    "X_train = X_train.drop(['intrusion','abnormal','normal','label'],axis=1) \n",
    "\n",
    "y_test = X_test['intrusion'] # target attribute\n",
    "\n",
    "# dataset excluding target attribute (encoded, one-hot-encoded,original)\n",
    "X_test = X_test.drop(['intrusion','abnormal','normal','label'],axis=1)"
   ]
  },
  {
   "cell_type": "code",
   "execution_count": null,
   "metadata": {
    "id": "347gsEWqAQHJ"
   },
   "outputs": [],
   "source": [
    "X_train = X_train.values\n",
    "X_test = X_test.values\n",
    "y_test = y_test.values"
   ]
  },
  {
   "cell_type": "code",
   "execution_count": null,
   "metadata": {
    "id": "wxoezCMzlC0-"
   },
   "outputs": [],
   "source": [
    "input_dim = X_train.shape[1]\n",
    "encoding_dim = 50\n",
    "\n",
    "#input layer\n",
    "input_layer = Input(shape=(input_dim, ))\n",
    "#encoding layer with 50 neurons\n",
    "encoder = Dense(encoding_dim, activation=\"relu\")(input_layer)           \n",
    "#decoding and output layer\n",
    "output_layer = Dense(input_dim, activation='softmax')(encoder)"
   ]
  },
  {
   "cell_type": "code",
   "execution_count": null,
   "metadata": {
    "id": "SMS9roLx09rn"
   },
   "outputs": [],
   "source": [
    "# creating model with input, encoding, decoding, output layers\n",
    "autoencoder = Model(inputs=input_layer, outputs=output_layer)\n",
    "\n",
    "# defining loss function, optimizer, metrics and then compiling model\n",
    "autoencoder.compile(optimizer='adam', loss='mean_squared_error',metrics=['accuracy'])"
   ]
  },
  {
   "cell_type": "code",
   "execution_count": null,
   "metadata": {
    "colab": {
     "base_uri": "https://localhost:8080/"
    },
    "id": "oEBUVTQG9rMa",
    "outputId": "bd676303-d1dc-49b7-c246-2566950cbb51"
   },
   "outputs": [
    {
     "name": "stdout",
     "output_type": "stream",
     "text": [
      "Model: \"model\"\n",
      "_________________________________________________________________\n",
      "Layer (type)                 Output Shape              Param #   \n",
      "=================================================================\n",
      "input_1 (InputLayer)         [(None, 93)]              0         \n",
      "_________________________________________________________________\n",
      "dense_4 (Dense)              (None, 50)                4700      \n",
      "_________________________________________________________________\n",
      "dense_5 (Dense)              (None, 93)                4743      \n",
      "=================================================================\n",
      "Total params: 9,443\n",
      "Trainable params: 9,443\n",
      "Non-trainable params: 0\n",
      "_________________________________________________________________\n"
     ]
    }
   ],
   "source": [
    "# summary of model layers\n",
    "autoencoder.summary()"
   ]
  },
  {
   "cell_type": "code",
   "execution_count": null,
   "metadata": {
    "colab": {
     "base_uri": "https://localhost:8080/"
    },
    "id": "UChFX8029tsb",
    "outputId": "88a670c2-2872-4c35-a2fb-18ba5185336a"
   },
   "outputs": [
    {
     "name": "stdout",
     "output_type": "stream",
     "text": [
      "Epoch 1/100\n",
      "189/189 [==============================] - 1s 4ms/step - loss: 0.1214 - accuracy: 0.0525 - val_loss: 0.1063 - val_accuracy: 0.4071\n",
      "Epoch 2/100\n",
      "189/189 [==============================] - 1s 3ms/step - loss: 0.1056 - accuracy: 0.6072 - val_loss: 0.1051 - val_accuracy: 0.6891\n",
      "Epoch 3/100\n",
      "189/189 [==============================] - 1s 3ms/step - loss: 0.1048 - accuracy: 0.7082 - val_loss: 0.1049 - val_accuracy: 0.7015\n",
      "Epoch 4/100\n",
      "189/189 [==============================] - 1s 4ms/step - loss: 0.1048 - accuracy: 0.7324 - val_loss: 0.1048 - val_accuracy: 0.7213\n",
      "Epoch 5/100\n",
      "189/189 [==============================] - 1s 4ms/step - loss: 0.1046 - accuracy: 0.7678 - val_loss: 0.1047 - val_accuracy: 0.8029\n",
      "Epoch 6/100\n",
      "189/189 [==============================] - 1s 4ms/step - loss: 0.1043 - accuracy: 0.8180 - val_loss: 0.1047 - val_accuracy: 0.8578\n",
      "Epoch 7/100\n",
      "189/189 [==============================] - 1s 4ms/step - loss: 0.1044 - accuracy: 0.8400 - val_loss: 0.1047 - val_accuracy: 0.8321\n",
      "Epoch 8/100\n",
      "189/189 [==============================] - 1s 4ms/step - loss: 0.1042 - accuracy: 0.8502 - val_loss: 0.1047 - val_accuracy: 0.8539\n",
      "Epoch 9/100\n",
      "189/189 [==============================] - 1s 4ms/step - loss: 0.1043 - accuracy: 0.8635 - val_loss: 0.1047 - val_accuracy: 0.8890\n",
      "Epoch 10/100\n",
      "189/189 [==============================] - 1s 4ms/step - loss: 0.1043 - accuracy: 0.8722 - val_loss: 0.1046 - val_accuracy: 0.8444\n",
      "Epoch 11/100\n",
      "189/189 [==============================] - 1s 4ms/step - loss: 0.1042 - accuracy: 0.8681 - val_loss: 0.1046 - val_accuracy: 0.8839\n",
      "Epoch 12/100\n",
      "189/189 [==============================] - 1s 3ms/step - loss: 0.1045 - accuracy: 0.8747 - val_loss: 0.1046 - val_accuracy: 0.8875\n",
      "Epoch 13/100\n",
      "189/189 [==============================] - 1s 3ms/step - loss: 0.1044 - accuracy: 0.8776 - val_loss: 0.1046 - val_accuracy: 0.8489\n",
      "Epoch 14/100\n",
      "189/189 [==============================] - 1s 3ms/step - loss: 0.1042 - accuracy: 0.8744 - val_loss: 0.1046 - val_accuracy: 0.8619\n",
      "Epoch 15/100\n",
      "189/189 [==============================] - 1s 3ms/step - loss: 0.1044 - accuracy: 0.8765 - val_loss: 0.1046 - val_accuracy: 0.8391\n",
      "Epoch 16/100\n",
      "189/189 [==============================] - 1s 4ms/step - loss: 0.1045 - accuracy: 0.8715 - val_loss: 0.1046 - val_accuracy: 0.8563\n",
      "Epoch 17/100\n",
      "189/189 [==============================] - 1s 4ms/step - loss: 0.1043 - accuracy: 0.8716 - val_loss: 0.1046 - val_accuracy: 0.8907\n",
      "Epoch 18/100\n",
      "189/189 [==============================] - 1s 3ms/step - loss: 0.1043 - accuracy: 0.8744 - val_loss: 0.1046 - val_accuracy: 0.9041\n",
      "Epoch 19/100\n",
      "189/189 [==============================] - 1s 4ms/step - loss: 0.1044 - accuracy: 0.8761 - val_loss: 0.1046 - val_accuracy: 0.8860\n",
      "Epoch 20/100\n",
      "189/189 [==============================] - 1s 3ms/step - loss: 0.1044 - accuracy: 0.8711 - val_loss: 0.1046 - val_accuracy: 0.8490\n",
      "Epoch 21/100\n",
      "189/189 [==============================] - 1s 3ms/step - loss: 0.1042 - accuracy: 0.8771 - val_loss: 0.1046 - val_accuracy: 0.9056\n",
      "Epoch 22/100\n",
      "189/189 [==============================] - 1s 4ms/step - loss: 0.1045 - accuracy: 0.8786 - val_loss: 0.1046 - val_accuracy: 0.8829\n",
      "Epoch 23/100\n",
      "189/189 [==============================] - 1s 3ms/step - loss: 0.1043 - accuracy: 0.8769 - val_loss: 0.1046 - val_accuracy: 0.8751\n",
      "Epoch 24/100\n",
      "189/189 [==============================] - 1s 3ms/step - loss: 0.1045 - accuracy: 0.8795 - val_loss: 0.1046 - val_accuracy: 0.8784\n",
      "Epoch 25/100\n",
      "189/189 [==============================] - 1s 4ms/step - loss: 0.1045 - accuracy: 0.8809 - val_loss: 0.1046 - val_accuracy: 0.8768\n",
      "Epoch 26/100\n",
      "189/189 [==============================] - 1s 4ms/step - loss: 0.1044 - accuracy: 0.8824 - val_loss: 0.1046 - val_accuracy: 0.8703\n",
      "Epoch 27/100\n",
      "189/189 [==============================] - 1s 4ms/step - loss: 0.1043 - accuracy: 0.8782 - val_loss: 0.1046 - val_accuracy: 0.8776\n",
      "Epoch 28/100\n",
      "189/189 [==============================] - 1s 4ms/step - loss: 0.1045 - accuracy: 0.8723 - val_loss: 0.1046 - val_accuracy: 0.9076\n",
      "Epoch 29/100\n",
      "189/189 [==============================] - 1s 4ms/step - loss: 0.1046 - accuracy: 0.8749 - val_loss: 0.1046 - val_accuracy: 0.8692\n",
      "Epoch 30/100\n",
      "189/189 [==============================] - 1s 4ms/step - loss: 0.1043 - accuracy: 0.8825 - val_loss: 0.1046 - val_accuracy: 0.8964\n",
      "Epoch 31/100\n",
      "189/189 [==============================] - 1s 4ms/step - loss: 0.1042 - accuracy: 0.8895 - val_loss: 0.1046 - val_accuracy: 0.8889\n",
      "Epoch 32/100\n",
      "189/189 [==============================] - 1s 4ms/step - loss: 0.1044 - accuracy: 0.8868 - val_loss: 0.1046 - val_accuracy: 0.8901\n",
      "Epoch 33/100\n",
      "189/189 [==============================] - 1s 4ms/step - loss: 0.1043 - accuracy: 0.8891 - val_loss: 0.1046 - val_accuracy: 0.8924\n",
      "Epoch 34/100\n",
      "189/189 [==============================] - 1s 3ms/step - loss: 0.1044 - accuracy: 0.8890 - val_loss: 0.1046 - val_accuracy: 0.8868\n",
      "Epoch 35/100\n",
      "189/189 [==============================] - 1s 4ms/step - loss: 0.1043 - accuracy: 0.8915 - val_loss: 0.1046 - val_accuracy: 0.8787\n",
      "Epoch 36/100\n",
      "189/189 [==============================] - 1s 4ms/step - loss: 0.1041 - accuracy: 0.8926 - val_loss: 0.1046 - val_accuracy: 0.8946\n",
      "Epoch 37/100\n",
      "189/189 [==============================] - 1s 4ms/step - loss: 0.1043 - accuracy: 0.8950 - val_loss: 0.1046 - val_accuracy: 0.9071\n",
      "Epoch 38/100\n",
      "189/189 [==============================] - 1s 4ms/step - loss: 0.1042 - accuracy: 0.8936 - val_loss: 0.1046 - val_accuracy: 0.8880\n",
      "Epoch 39/100\n",
      "189/189 [==============================] - 1s 4ms/step - loss: 0.1045 - accuracy: 0.8981 - val_loss: 0.1046 - val_accuracy: 0.8783\n",
      "Epoch 40/100\n",
      "189/189 [==============================] - 1s 4ms/step - loss: 0.1041 - accuracy: 0.8967 - val_loss: 0.1046 - val_accuracy: 0.9142\n",
      "Epoch 41/100\n",
      "189/189 [==============================] - 1s 4ms/step - loss: 0.1042 - accuracy: 0.8995 - val_loss: 0.1046 - val_accuracy: 0.9112\n",
      "Epoch 42/100\n",
      "189/189 [==============================] - 1s 4ms/step - loss: 0.1046 - accuracy: 0.8972 - val_loss: 0.1046 - val_accuracy: 0.8945\n",
      "Epoch 43/100\n",
      "189/189 [==============================] - 1s 4ms/step - loss: 0.1041 - accuracy: 0.8989 - val_loss: 0.1046 - val_accuracy: 0.9053\n",
      "Epoch 44/100\n",
      "189/189 [==============================] - 1s 4ms/step - loss: 0.1045 - accuracy: 0.9008 - val_loss: 0.1046 - val_accuracy: 0.9423\n",
      "Epoch 45/100\n",
      "189/189 [==============================] - 1s 4ms/step - loss: 0.1042 - accuracy: 0.9011 - val_loss: 0.1046 - val_accuracy: 0.9121\n",
      "Epoch 46/100\n",
      "189/189 [==============================] - 1s 4ms/step - loss: 0.1042 - accuracy: 0.9046 - val_loss: 0.1046 - val_accuracy: 0.9086\n",
      "Epoch 47/100\n",
      "189/189 [==============================] - 1s 4ms/step - loss: 0.1042 - accuracy: 0.9010 - val_loss: 0.1046 - val_accuracy: 0.9046\n",
      "Epoch 48/100\n",
      "189/189 [==============================] - 1s 4ms/step - loss: 0.1044 - accuracy: 0.9018 - val_loss: 0.1046 - val_accuracy: 0.9101\n",
      "Epoch 49/100\n",
      "189/189 [==============================] - 1s 4ms/step - loss: 0.1041 - accuracy: 0.9052 - val_loss: 0.1046 - val_accuracy: 0.9005\n",
      "Epoch 50/100\n",
      "189/189 [==============================] - 1s 4ms/step - loss: 0.1045 - accuracy: 0.9021 - val_loss: 0.1046 - val_accuracy: 0.9002\n",
      "Epoch 51/100\n",
      "189/189 [==============================] - 1s 4ms/step - loss: 0.1041 - accuracy: 0.9043 - val_loss: 0.1046 - val_accuracy: 0.9118\n",
      "Epoch 52/100\n",
      "189/189 [==============================] - 1s 4ms/step - loss: 0.1046 - accuracy: 0.9061 - val_loss: 0.1046 - val_accuracy: 0.8976\n",
      "Epoch 53/100\n",
      "189/189 [==============================] - 1s 4ms/step - loss: 0.1045 - accuracy: 0.9042 - val_loss: 0.1046 - val_accuracy: 0.9160\n",
      "Epoch 54/100\n",
      "189/189 [==============================] - 1s 3ms/step - loss: 0.1045 - accuracy: 0.9054 - val_loss: 0.1046 - val_accuracy: 0.9379\n",
      "Epoch 55/100\n",
      "189/189 [==============================] - 1s 3ms/step - loss: 0.1042 - accuracy: 0.9078 - val_loss: 0.1046 - val_accuracy: 0.9240\n",
      "Epoch 56/100\n",
      "189/189 [==============================] - 1s 4ms/step - loss: 0.1044 - accuracy: 0.9082 - val_loss: 0.1046 - val_accuracy: 0.8829\n",
      "Epoch 57/100\n",
      "189/189 [==============================] - 1s 4ms/step - loss: 0.1045 - accuracy: 0.9063 - val_loss: 0.1046 - val_accuracy: 0.9355\n",
      "Epoch 58/100\n",
      "189/189 [==============================] - 1s 4ms/step - loss: 0.1044 - accuracy: 0.9100 - val_loss: 0.1046 - val_accuracy: 0.8864\n",
      "Epoch 59/100\n",
      "189/189 [==============================] - 1s 3ms/step - loss: 0.1044 - accuracy: 0.9086 - val_loss: 0.1046 - val_accuracy: 0.8953\n",
      "Epoch 60/100\n",
      "189/189 [==============================] - 1s 4ms/step - loss: 0.1043 - accuracy: 0.9072 - val_loss: 0.1046 - val_accuracy: 0.8933\n",
      "Epoch 61/100\n",
      "189/189 [==============================] - 1s 4ms/step - loss: 0.1044 - accuracy: 0.9077 - val_loss: 0.1046 - val_accuracy: 0.9145\n",
      "Epoch 62/100\n",
      "189/189 [==============================] - 1s 4ms/step - loss: 0.1041 - accuracy: 0.9075 - val_loss: 0.1046 - val_accuracy: 0.9012\n",
      "Epoch 63/100\n",
      "189/189 [==============================] - 1s 4ms/step - loss: 0.1042 - accuracy: 0.9079 - val_loss: 0.1046 - val_accuracy: 0.9194\n",
      "Epoch 64/100\n",
      "189/189 [==============================] - 1s 4ms/step - loss: 0.1043 - accuracy: 0.9088 - val_loss: 0.1046 - val_accuracy: 0.9280\n",
      "Epoch 65/100\n",
      "189/189 [==============================] - 1s 3ms/step - loss: 0.1043 - accuracy: 0.9077 - val_loss: 0.1046 - val_accuracy: 0.9067\n",
      "Epoch 66/100\n",
      "189/189 [==============================] - 1s 4ms/step - loss: 0.1043 - accuracy: 0.9087 - val_loss: 0.1046 - val_accuracy: 0.9489\n",
      "Epoch 67/100\n",
      "189/189 [==============================] - 1s 4ms/step - loss: 0.1041 - accuracy: 0.9096 - val_loss: 0.1046 - val_accuracy: 0.8849\n",
      "Epoch 68/100\n",
      "189/189 [==============================] - 1s 4ms/step - loss: 0.1042 - accuracy: 0.9094 - val_loss: 0.1046 - val_accuracy: 0.9129\n",
      "Epoch 69/100\n",
      "189/189 [==============================] - 1s 4ms/step - loss: 0.1043 - accuracy: 0.9091 - val_loss: 0.1046 - val_accuracy: 0.9039\n",
      "Epoch 70/100\n",
      "189/189 [==============================] - 1s 4ms/step - loss: 0.1043 - accuracy: 0.9099 - val_loss: 0.1046 - val_accuracy: 0.8840\n",
      "Epoch 71/100\n",
      "189/189 [==============================] - 1s 4ms/step - loss: 0.1042 - accuracy: 0.9056 - val_loss: 0.1046 - val_accuracy: 0.9125\n",
      "Epoch 72/100\n",
      "189/189 [==============================] - 1s 4ms/step - loss: 0.1044 - accuracy: 0.9093 - val_loss: 0.1046 - val_accuracy: 0.9081\n",
      "Epoch 73/100\n",
      "189/189 [==============================] - 1s 4ms/step - loss: 0.1041 - accuracy: 0.9083 - val_loss: 0.1046 - val_accuracy: 0.9223\n",
      "Epoch 74/100\n",
      "189/189 [==============================] - 1s 4ms/step - loss: 0.1044 - accuracy: 0.9103 - val_loss: 0.1046 - val_accuracy: 0.9291\n",
      "Epoch 75/100\n",
      "189/189 [==============================] - 1s 4ms/step - loss: 0.1043 - accuracy: 0.9099 - val_loss: 0.1046 - val_accuracy: 0.9301\n",
      "Epoch 76/100\n",
      "189/189 [==============================] - 1s 4ms/step - loss: 0.1042 - accuracy: 0.9117 - val_loss: 0.1046 - val_accuracy: 0.9067\n",
      "Epoch 77/100\n",
      "189/189 [==============================] - 1s 4ms/step - loss: 0.1045 - accuracy: 0.9092 - val_loss: 0.1046 - val_accuracy: 0.9443\n",
      "Epoch 78/100\n",
      "189/189 [==============================] - 1s 4ms/step - loss: 0.1042 - accuracy: 0.9094 - val_loss: 0.1046 - val_accuracy: 0.9180\n",
      "Epoch 79/100\n",
      "189/189 [==============================] - 1s 4ms/step - loss: 0.1046 - accuracy: 0.9113 - val_loss: 0.1046 - val_accuracy: 0.9019\n",
      "Epoch 80/100\n",
      "189/189 [==============================] - 1s 4ms/step - loss: 0.1045 - accuracy: 0.9115 - val_loss: 0.1046 - val_accuracy: 0.9522\n",
      "Epoch 81/100\n",
      "189/189 [==============================] - 1s 4ms/step - loss: 0.1043 - accuracy: 0.9105 - val_loss: 0.1046 - val_accuracy: 0.9054\n",
      "Epoch 82/100\n",
      "189/189 [==============================] - 1s 4ms/step - loss: 0.1044 - accuracy: 0.9097 - val_loss: 0.1046 - val_accuracy: 0.9070\n",
      "Epoch 83/100\n",
      "189/189 [==============================] - 1s 4ms/step - loss: 0.1042 - accuracy: 0.9082 - val_loss: 0.1046 - val_accuracy: 0.9220\n",
      "Epoch 84/100\n",
      "189/189 [==============================] - 1s 4ms/step - loss: 0.1043 - accuracy: 0.9112 - val_loss: 0.1046 - val_accuracy: 0.8926\n",
      "Epoch 85/100\n",
      "189/189 [==============================] - 1s 4ms/step - loss: 0.1041 - accuracy: 0.9097 - val_loss: 0.1046 - val_accuracy: 0.8871\n",
      "Epoch 86/100\n",
      "189/189 [==============================] - 1s 4ms/step - loss: 0.1044 - accuracy: 0.9104 - val_loss: 0.1046 - val_accuracy: 0.9107\n",
      "Epoch 87/100\n",
      "189/189 [==============================] - 1s 4ms/step - loss: 0.1044 - accuracy: 0.9107 - val_loss: 0.1046 - val_accuracy: 0.8937\n",
      "Epoch 88/100\n",
      "189/189 [==============================] - 1s 4ms/step - loss: 0.1043 - accuracy: 0.9124 - val_loss: 0.1046 - val_accuracy: 0.9075\n",
      "Epoch 89/100\n",
      "189/189 [==============================] - 1s 4ms/step - loss: 0.1043 - accuracy: 0.9115 - val_loss: 0.1046 - val_accuracy: 0.8935\n",
      "Epoch 90/100\n",
      "189/189 [==============================] - 1s 4ms/step - loss: 0.1044 - accuracy: 0.9131 - val_loss: 0.1046 - val_accuracy: 0.9289\n",
      "Epoch 91/100\n",
      "189/189 [==============================] - 1s 4ms/step - loss: 0.1043 - accuracy: 0.9101 - val_loss: 0.1046 - val_accuracy: 0.8831\n",
      "Epoch 92/100\n",
      "189/189 [==============================] - 1s 3ms/step - loss: 0.1043 - accuracy: 0.9119 - val_loss: 0.1046 - val_accuracy: 0.8963\n",
      "Epoch 93/100\n",
      "189/189 [==============================] - 1s 4ms/step - loss: 0.1041 - accuracy: 0.9127 - val_loss: 0.1046 - val_accuracy: 0.9140\n",
      "Epoch 94/100\n",
      "189/189 [==============================] - 1s 4ms/step - loss: 0.1044 - accuracy: 0.9132 - val_loss: 0.1046 - val_accuracy: 0.9410\n",
      "Epoch 95/100\n",
      "189/189 [==============================] - 1s 4ms/step - loss: 0.1043 - accuracy: 0.9140 - val_loss: 0.1046 - val_accuracy: 0.8723\n",
      "Epoch 96/100\n",
      "189/189 [==============================] - 1s 4ms/step - loss: 0.1044 - accuracy: 0.9132 - val_loss: 0.1046 - val_accuracy: 0.8909\n",
      "Epoch 97/100\n",
      "189/189 [==============================] - 1s 4ms/step - loss: 0.1045 - accuracy: 0.9140 - val_loss: 0.1046 - val_accuracy: 0.9291\n",
      "Epoch 98/100\n",
      "189/189 [==============================] - 1s 4ms/step - loss: 0.1044 - accuracy: 0.9119 - val_loss: 0.1046 - val_accuracy: 0.9319\n",
      "Epoch 99/100\n",
      "189/189 [==============================] - 1s 4ms/step - loss: 0.1043 - accuracy: 0.9135 - val_loss: 0.1046 - val_accuracy: 0.9421\n",
      "Epoch 100/100\n",
      "189/189 [==============================] - 1s 4ms/step - loss: 0.1043 - accuracy: 0.9156 - val_loss: 0.1046 - val_accuracy: 0.9227\n"
     ]
    }
   ],
   "source": [
    "# training the model on training dataset\n",
    "history = autoencoder.fit(X_train, X_train, epochs=100,batch_size=500,validation_data=(X_test, X_test)).history"
   ]
  },
  {
   "cell_type": "code",
   "execution_count": null,
   "metadata": {
    "colab": {
     "base_uri": "https://localhost:8080/"
    },
    "id": "JSZ9mOeM1mc4",
    "outputId": "5aa44835-8e18-4b69-d9be-434dff3b0bf6"
   },
   "outputs": [
    {
     "name": "stdout",
     "output_type": "stream",
     "text": [
      "Saved model to disk\n",
      "Loaded model from disk\n"
     ]
    }
   ],
   "source": [
    "filepath = './models/ae_binary.json'\n",
    "weightspath = './weights/ae_binary.h5'\n",
    "if (not path.isfile(filepath)): \n",
    "  # serialize model to JSON\n",
    "  autoencoder_json = autoencoder.to_json()\n",
    "  with open(filepath, \"w\") as json_file:\n",
    "    json_file.write(autoencoder_json)\n",
    "\n",
    "  # serialize weights to HDF5\n",
    "  autoencoder.save_weights(weightspath)\n",
    "  print(\"Saved model to disk\")\n",
    "\n",
    "  # load json and create model\n",
    "  json_file = open(filepath, 'r')\n",
    "  loaded_model_json = json_file.read()\n",
    "  json_file.close()\n",
    "  autoencoder = model_from_json(loaded_model_json)\n",
    "\n",
    "  # load weights into new model\n",
    "  autoencoder.load_weights(weightspath)\n",
    "  print(\"Loaded model from disk\")"
   ]
  },
  {
   "cell_type": "code",
   "execution_count": null,
   "metadata": {
    "id": "K8yypm1Z1nHr"
   },
   "outputs": [],
   "source": [
    "# defining loss function, optimizer, metrics and then compiling model\n",
    "autoencoder.compile(optimizer='adam', loss='mean_squared_error',metrics=['accuracy'])"
   ]
  },
  {
   "cell_type": "code",
   "execution_count": null,
   "metadata": {
    "colab": {
     "base_uri": "https://localhost:8080/"
    },
    "id": "Tec3S1UI0Auz",
    "outputId": "77493bd3-114b-4993-d8e2-f1499003beb3"
   },
   "outputs": [
    {
     "name": "stdout",
     "output_type": "stream",
     "text": [
      "985/985 [==============================] - 1s 1ms/step - loss: 0.1044 - accuracy: 0.9203\n",
      "Test results - Loss: 0.10457229614257812 - Accuracy: 0.9226519465446472%\n"
     ]
    }
   ],
   "source": [
    "# predicting target attribute on testing dataset\n",
    "test_results = autoencoder.evaluate(X_test, X_test, verbose=1)\n",
    "print(f'Test results - Loss: {test_results[0]} - Accuracy: {test_results[1]}%')"
   ]
  },
  {
   "cell_type": "code",
   "execution_count": null,
   "metadata": {
    "colab": {
     "base_uri": "https://localhost:8080/",
     "height": 295
    },
    "id": "2G1lDF19gUCA",
    "outputId": "5c1ad1cc-b623-4e63-cb87-8a7e94c2019c"
   },
   "outputs": [
    {
     "data": {
      "image/png": "[encoded data removed]",
      "text/plain": [
       "<Figure size 432x288 with 1 Axes>"
      ]
     },
     "metadata": {
      "needs_background": "light",
      "tags": []
     },
     "output_type": "display_data"
    }
   ],
   "source": [
    "# Plot of loss vs epoch of train and test dataset\n",
    "plt.plot(history['loss'])\n",
    "plt.plot(history['val_loss'])\n",
    "plt.title(\"Plot of loss vs epoch for train and test dataset\")\n",
    "plt.ylabel('loss')\n",
    "plt.xlabel('epoch')\n",
    "plt.legend(['train', 'test'], loc='upper right')\n",
    "plt.savefig('plots/ae_binary_loss.png')\n",
    "plt.show()"
   ]
  },
  {
   "cell_type": "code",
   "execution_count": null,
   "metadata": {
    "colab": {
     "base_uri": "https://localhost:8080/",
     "height": 295
    },
    "id": "nF9C3reggW_z",
    "outputId": "1c77973c-e82a-4ce1-fa30-f98fe676e8d2"
   },
   "outputs": [
    {
     "data": {
      "image/png": "[encoded data removed]",
      "text/plain": [
       "<Figure size 432x288 with 1 Axes>"
      ]
     },
     "metadata": {
      "needs_background": "light",
      "tags": []
     },
     "output_type": "display_data"
    }
   ],
   "source": [
    "# Plot of accuracy vs epoch of train and test dataset\n",
    "plt.plot(history['accuracy'])\n",
    "plt.plot(history['val_accuracy'])\n",
    "plt.title(\"Plot of accuracy vs epoch for train and test dataset\")\n",
    "plt.ylabel('accuracy')\n",
    "plt.xlabel('epoch')\n",
    "plt.legend(['train', 'test'], loc='best')\n",
    "plt.savefig('plots/ae_binary_accuracy.png')\n",
    "plt.show()"
   ]
  },
  {
   "cell_type": "code",
   "execution_count": null,
   "metadata": {
    "colab": {
     "base_uri": "https://localhost:8080/",
     "height": 312
    },
    "id": "ZY2NaxgdEHSE",
    "outputId": "04e50955-eec4-44de-c1a5-decc620eca82"
   },
   "outputs": [
    {
     "data": {
      "image/png": "[encoded data removed]",
      "text/plain": [
       "<IPython.core.display.Image object>"
      ]
     },
     "execution_count": 166,
     "metadata": {
      "tags": []
     },
     "output_type": "execute_result"
    }
   ],
   "source": [
    "# representation of model layers\n",
    "plot_model(autoencoder, to_file='plots/ae_binary.png', show_shapes=True,)"
   ]
  },
  {
   "cell_type": "code",
   "execution_count": null,
   "metadata": {
    "id": "lH62ub1mz98Z"
   },
   "outputs": [],
   "source": [
    "# calculating reconstruction error \n",
    "predictions = autoencoder.predict(X_test)"
   ]
  },
  {
   "cell_type": "code",
   "execution_count": null,
   "metadata": {
    "id": "_4-pGpAJ4UbZ"
   },
   "outputs": [],
   "source": [
    "mse = np.mean(np.power(X_test - predictions, 2), axis=1)\n",
    "error_df = pd.DataFrame({'reconstruction_error': mse,\n",
    "                        'true_class': y_test})"
   ]
  },
  {
   "cell_type": "code",
   "execution_count": null,
   "metadata": {
    "colab": {
     "base_uri": "https://localhost:8080/",
     "height": 297
    },
    "id": "V7eby65W4kHn",
    "outputId": "17456604-fe71-497c-f1cd-bc0225fdf422"
   },
   "outputs": [
    {
     "data": {
      "text/html": [
       "<div>\n",
       "<style scoped>\n",
       "    .dataframe tbody tr th:only-of-type {\n",
       "        vertical-align: middle;\n",
       "    }\n",
       "\n",
       "    .dataframe tbody tr th {\n",
       "        vertical-align: top;\n",
       "    }\n",
       "\n",
       "    .dataframe thead th {\n",
       "        text-align: right;\n",
       "    }\n",
       "</style>\n",
       "<table border=\"1\" class=\"dataframe\">\n",
       "  <thead>\n",
       "    <tr style=\"text-align: right;\">\n",
       "      <th></th>\n",
       "      <th>reconstruction_error</th>\n",
       "      <th>true_class</th>\n",
       "    </tr>\n",
       "  </thead>\n",
       "  <tbody>\n",
       "    <tr>\n",
       "      <th>count</th>\n",
       "      <td>31494.000000</td>\n",
       "      <td>31494.000000</td>\n",
       "    </tr>\n",
       "    <tr>\n",
       "      <th>mean</th>\n",
       "      <td>0.104572</td>\n",
       "      <td>0.532609</td>\n",
       "    </tr>\n",
       "    <tr>\n",
       "      <th>std</th>\n",
       "      <td>0.043577</td>\n",
       "      <td>0.498943</td>\n",
       "    </tr>\n",
       "    <tr>\n",
       "      <th>min</th>\n",
       "      <td>0.040633</td>\n",
       "      <td>0.000000</td>\n",
       "    </tr>\n",
       "    <tr>\n",
       "      <th>25%</th>\n",
       "      <td>0.074506</td>\n",
       "      <td>0.000000</td>\n",
       "    </tr>\n",
       "    <tr>\n",
       "      <th>50%</th>\n",
       "      <td>0.083821</td>\n",
       "      <td>1.000000</td>\n",
       "    </tr>\n",
       "    <tr>\n",
       "      <th>75%</th>\n",
       "      <td>0.151405</td>\n",
       "      <td>1.000000</td>\n",
       "    </tr>\n",
       "    <tr>\n",
       "      <th>max</th>\n",
       "      <td>0.229802</td>\n",
       "      <td>1.000000</td>\n",
       "    </tr>\n",
       "  </tbody>\n",
       "</table>\n",
       "</div>"
      ],
      "text/plain": [
       "       reconstruction_error    true_class\n",
       "count          31494.000000  31494.000000\n",
       "mean               0.104572      0.532609\n",
       "std                0.043577      0.498943\n",
       "min                0.040633      0.000000\n",
       "25%                0.074506      0.000000\n",
       "50%                0.083821      1.000000\n",
       "75%                0.151405      1.000000\n",
       "max                0.229802      1.000000"
      ]
     },
     "execution_count": 169,
     "metadata": {
      "tags": []
     },
     "output_type": "execute_result"
    }
   ],
   "source": [
    "error_df.describe()"
   ]
  },
  {
   "cell_type": "markdown",
   "metadata": {
    "id": "-HvlLolTuV8c"
   },
   "source": [
    "# **K-nearest-neighbor Classifier (Multi-class Classification)**"
   ]
  },
  {
   "cell_type": "code",
   "execution_count": null,
   "metadata": {
    "colab": {
     "base_uri": "https://localhost:8080/"
    },
    "id": "_oUD9fTyC5TQ",
    "outputId": "5f25a207-4d44-447d-8ee2-b36b70c46464"
   },
   "outputs": [
    {
     "data": {
      "text/plain": [
       "KNeighborsClassifier(algorithm='auto', leaf_size=30, metric='minkowski',\n",
       "                     metric_params=None, n_jobs=None, n_neighbors=5, p=2,\n",
       "                     weights='uniform')"
      ]
     },
     "execution_count": 180,
     "metadata": {
      "tags": []
     },
     "output_type": "execute_result"
    }
   ],
   "source": [
    "knn=KNeighborsClassifier(n_neighbors=5)\n",
    "knn.fit(X_train,y_train) # training model on training dataset"
   ]
  },
  {
   "cell_type": "code",
   "execution_count": null,
   "metadata": {
    "colab": {
     "base_uri": "https://localhost:8080/"
    },
    "id": "Jx8TF5VMGeM3",
    "outputId": "d303a1d5-9788-40f4-93cc-9e3ceaf08f31"
   },
   "outputs": [
    {
     "name": "stdout",
     "output_type": "stream",
     "text": [
      "Saved model to disk\n",
      "Loaded model from disk\n"
     ]
    }
   ],
   "source": [
    "pkl_filename = \"./models/knn_multi.pkl\"\n",
    "if (not path.isfile(pkl_filename)):\n",
    "  # saving trained model to disk\n",
    "  with open(pkl_filename, 'wb') as file:\n",
    "    pickle.dump(knn, file)\n",
    "  print(\"Saved model to disk\")\n",
    "  # loading trained model from disk\n",
    "  with open(pkl_filename, 'rb') as file:\n",
    "    knn = pickle.load(file)\n",
    "  print(\"Loaded model from disk\")"
   ]
  },
  {
   "cell_type": "code",
   "execution_count": null,
   "metadata": {
    "colab": {
     "base_uri": "https://localhost:8080/"
    },
    "id": "S98xJiOLiqGp",
    "outputId": "d82ec7fa-270c-424d-865e-20b0ed20395d"
   },
   "outputs": [
    {
     "name": "stdout",
     "output_type": "stream",
     "text": [
      "KNN-Classifier Multi-class Set-Accuracy is  98.29173810884613\n"
     ]
    }
   ],
   "source": [
    "y_pred=knn.predict(X_test)  # predicting target attribute on testing dataset\n",
    "ac=accuracy_score(y_test, y_pred)*100  # calculating accuracy of predicted data\n",
    "print(\"KNN-Classifier Multi-class Set-Accuracy is \", ac)"
   ]
  },
  {
   "cell_type": "code",
   "execution_count": null,
   "metadata": {
    "colab": {
     "base_uri": "https://localhost:8080/"
    },
    "id": "bofv1igEjXEb",
    "outputId": "0a6d8de7-83dc-4d0b-f160-8ff908292b8b"
   },
   "outputs": [
    {
     "name": "stdout",
     "output_type": "stream",
     "text": [
      "              precision    recall  f1-score   support\n",
      "\n",
      "         Dos       0.99      0.99      0.99     11484\n",
      "       Probe       0.96      0.97      0.96      2947\n",
      "         R2L       0.92      0.87      0.89       274\n",
      "         U2R       0.40      0.13      0.20        15\n",
      "      normal       0.99      0.99      0.99     16774\n",
      "\n",
      "    accuracy                           0.98     31494\n",
      "   macro avg       0.85      0.79      0.81     31494\n",
      "weighted avg       0.98      0.98      0.98     31494\n",
      "\n"
     ]
    }
   ],
   "source": [
    "# classification report\n",
    "print(classification_report(y_test, y_pred,target_names=le2_classes_))"
   ]
  },
  {
   "cell_type": "markdown",
   "metadata": {
    "id": "RpcZ4R0m8L7N"
   },
   "source": [
    "# **Auto Encoder Classifier (Multi-class Classification)**"
   ]
  },
  {
   "cell_type": "code",
   "execution_count": null,
   "metadata": {
    "id": "VVNdyL8S8Vaw"
   },
   "outputs": [],
   "source": [
    "# splitting the dataset 75% for training and 25% testing\n",
    "X_train, X_test = train_test_split(multi_data, test_size=0.25, random_state=42)"
   ]
  },
  {
   "cell_type": "code",
   "execution_count": null,
   "metadata": {
    "id": "L03tdsFq8Wdj"
   },
   "outputs": [],
   "source": [
    "# dataset excluding target attribute (encoded, one-hot-encoded,original)\n",
    "X_train = X_train.drop(['intrusion','Dos','normal','Probe','R2L','U2R','label'],axis=1)\n",
    "\n",
    "y_test = X_test['intrusion'] # target attribute\n",
    "\n",
    "# dataset excluding target attribute (encoded, one-hot-encoded,original)\n",
    "X_test = X_test.drop(['intrusion','Dos','normal','Probe','R2L','U2R','label'],axis=1)"
   ]
  },
  {
   "cell_type": "code",
   "execution_count": null,
   "metadata": {
    "id": "4cT2cprf8bSf"
   },
   "outputs": [],
   "source": [
    "X_train = X_train.values\n",
    "X_test = X_test.values\n",
    "y_test = y_test.values"
   ]
  },
  {
   "cell_type": "code",
   "execution_count": null,
   "metadata": {
    "id": "4eKXJ5JC8dWJ"
   },
   "outputs": [],
   "source": [
    "input_dim = X_train.shape[1]\n",
    "encoding_dim = 50\n",
    "\n",
    "#input layer\n",
    "input_layer = Input(shape=(input_dim, ))\n",
    "#encoding layer with 50 neurons\n",
    "encoder = Dense(encoding_dim, activation=\"relu\")(input_layer)           \n",
    "#decoding and output layer\n",
    "output_layer = Dense(input_dim, activation='softmax')(encoder)"
   ]
  },
  {
   "cell_type": "code",
   "execution_count": null,
   "metadata": {
    "id": "jWToOFFE4cEB"
   },
   "outputs": [],
   "source": [
    "# creating model with input, encoding, decoding, output layers\n",
    "autoencoder = Model(inputs=input_layer, outputs=output_layer)\n",
    "\n",
    "# defining loss function, optimizer, metrics and then compiling model\n",
    "autoencoder.compile(optimizer='adam', loss='mean_squared_error',metrics=['accuracy'])"
   ]
  },
  {
   "cell_type": "code",
   "execution_count": null,
   "metadata": {
    "colab": {
     "base_uri": "https://localhost:8080/"
    },
    "id": "zKTV_xaK8ha8",
    "outputId": "52f998bd-01ec-4d25-e99d-9d49db04aea4"
   },
   "outputs": [
    {
     "name": "stdout",
     "output_type": "stream",
     "text": [
      "Model: \"model_1\"\n",
      "_________________________________________________________________\n",
      "Layer (type)                 Output Shape              Param #   \n",
      "=================================================================\n",
      "input_2 (InputLayer)         [(None, 93)]              0         \n",
      "_________________________________________________________________\n",
      "dense_8 (Dense)              (None, 50)                4700      \n",
      "_________________________________________________________________\n",
      "dense_9 (Dense)              (None, 93)                4743      \n",
      "=================================================================\n",
      "Total params: 9,443\n",
      "Trainable params: 9,443\n",
      "Non-trainable params: 0\n",
      "_________________________________________________________________\n"
     ]
    }
   ],
   "source": [
    "# summary of model layers\n",
    "autoencoder.summary()"
   ]
  },
  {
   "cell_type": "code",
   "execution_count": null,
   "metadata": {
    "colab": {
     "base_uri": "https://localhost:8080/"
    },
    "id": "dfO2sPjn8kCd",
    "outputId": "48d6a854-8a01-4daf-a375-955409e00edf"
   },
   "outputs": [
    {
     "name": "stdout",
     "output_type": "stream",
     "text": [
      "Epoch 1/100\n",
      "189/189 [==============================] - 1s 4ms/step - loss: 0.1211 - accuracy: 0.1116 - val_loss: 0.1060 - val_accuracy: 0.3333\n",
      "Epoch 2/100\n",
      "189/189 [==============================] - 1s 3ms/step - loss: 0.1054 - accuracy: 0.4788 - val_loss: 0.1051 - val_accuracy: 0.6918\n",
      "Epoch 3/100\n",
      "189/189 [==============================] - 1s 4ms/step - loss: 0.1048 - accuracy: 0.6864 - val_loss: 0.1049 - val_accuracy: 0.6834\n",
      "Epoch 4/100\n",
      "189/189 [==============================] - 1s 4ms/step - loss: 0.1046 - accuracy: 0.7274 - val_loss: 0.1048 - val_accuracy: 0.7741\n",
      "Epoch 5/100\n",
      "189/189 [==============================] - 1s 4ms/step - loss: 0.1044 - accuracy: 0.7674 - val_loss: 0.1048 - val_accuracy: 0.8045\n",
      "Epoch 6/100\n",
      "189/189 [==============================] - 1s 4ms/step - loss: 0.1046 - accuracy: 0.8088 - val_loss: 0.1047 - val_accuracy: 0.8379\n",
      "Epoch 7/100\n",
      "189/189 [==============================] - 1s 3ms/step - loss: 0.1047 - accuracy: 0.8389 - val_loss: 0.1047 - val_accuracy: 0.8338\n",
      "Epoch 8/100\n",
      "189/189 [==============================] - 1s 4ms/step - loss: 0.1045 - accuracy: 0.8605 - val_loss: 0.1047 - val_accuracy: 0.8636\n",
      "Epoch 9/100\n",
      "189/189 [==============================] - 1s 4ms/step - loss: 0.1046 - accuracy: 0.8686 - val_loss: 0.1047 - val_accuracy: 0.8626\n",
      "Epoch 10/100\n",
      "189/189 [==============================] - 1s 4ms/step - loss: 0.1042 - accuracy: 0.8733 - val_loss: 0.1046 - val_accuracy: 0.8757\n",
      "Epoch 11/100\n",
      "189/189 [==============================] - 1s 4ms/step - loss: 0.1042 - accuracy: 0.8749 - val_loss: 0.1046 - val_accuracy: 0.8832\n",
      "Epoch 12/100\n",
      "189/189 [==============================] - 1s 4ms/step - loss: 0.1043 - accuracy: 0.8783 - val_loss: 0.1046 - val_accuracy: 0.8705\n",
      "Epoch 13/100\n",
      "189/189 [==============================] - 1s 4ms/step - loss: 0.1041 - accuracy: 0.8807 - val_loss: 0.1046 - val_accuracy: 0.8882\n",
      "Epoch 14/100\n",
      "189/189 [==============================] - 1s 4ms/step - loss: 0.1044 - accuracy: 0.8814 - val_loss: 0.1046 - val_accuracy: 0.8894\n",
      "Epoch 15/100\n",
      "189/189 [==============================] - 1s 4ms/step - loss: 0.1043 - accuracy: 0.8765 - val_loss: 0.1046 - val_accuracy: 0.8816\n",
      "Epoch 16/100\n",
      "189/189 [==============================] - 1s 3ms/step - loss: 0.1042 - accuracy: 0.8776 - val_loss: 0.1046 - val_accuracy: 0.8882\n",
      "Epoch 17/100\n",
      "189/189 [==============================] - 1s 4ms/step - loss: 0.1044 - accuracy: 0.8809 - val_loss: 0.1046 - val_accuracy: 0.8835\n",
      "Epoch 18/100\n",
      "189/189 [==============================] - 1s 3ms/step - loss: 0.1042 - accuracy: 0.8778 - val_loss: 0.1046 - val_accuracy: 0.9059\n",
      "Epoch 19/100\n",
      "189/189 [==============================] - 1s 3ms/step - loss: 0.1043 - accuracy: 0.8784 - val_loss: 0.1046 - val_accuracy: 0.8973\n",
      "Epoch 20/100\n",
      "189/189 [==============================] - 1s 4ms/step - loss: 0.1043 - accuracy: 0.8859 - val_loss: 0.1046 - val_accuracy: 0.8976\n",
      "Epoch 21/100\n",
      "189/189 [==============================] - 1s 3ms/step - loss: 0.1045 - accuracy: 0.8822 - val_loss: 0.1046 - val_accuracy: 0.8603\n",
      "Epoch 22/100\n",
      "189/189 [==============================] - 1s 3ms/step - loss: 0.1045 - accuracy: 0.8769 - val_loss: 0.1046 - val_accuracy: 0.8695\n",
      "Epoch 23/100\n",
      "189/189 [==============================] - 1s 3ms/step - loss: 0.1043 - accuracy: 0.8720 - val_loss: 0.1046 - val_accuracy: 0.8490\n",
      "Epoch 24/100\n",
      "189/189 [==============================] - 1s 4ms/step - loss: 0.1043 - accuracy: 0.8712 - val_loss: 0.1046 - val_accuracy: 0.8844\n",
      "Epoch 25/100\n",
      "189/189 [==============================] - 1s 3ms/step - loss: 0.1045 - accuracy: 0.8726 - val_loss: 0.1046 - val_accuracy: 0.8168\n",
      "Epoch 26/100\n",
      "189/189 [==============================] - 1s 3ms/step - loss: 0.1042 - accuracy: 0.8717 - val_loss: 0.1046 - val_accuracy: 0.9182\n",
      "Epoch 27/100\n",
      "189/189 [==============================] - 1s 4ms/step - loss: 0.1043 - accuracy: 0.8834 - val_loss: 0.1046 - val_accuracy: 0.8768\n",
      "Epoch 28/100\n",
      "189/189 [==============================] - 1s 3ms/step - loss: 0.1044 - accuracy: 0.8795 - val_loss: 0.1046 - val_accuracy: 0.8779\n",
      "Epoch 29/100\n",
      "189/189 [==============================] - 1s 4ms/step - loss: 0.1042 - accuracy: 0.8802 - val_loss: 0.1046 - val_accuracy: 0.8919\n",
      "Epoch 30/100\n",
      "189/189 [==============================] - 1s 4ms/step - loss: 0.1046 - accuracy: 0.8813 - val_loss: 0.1046 - val_accuracy: 0.8715\n",
      "Epoch 31/100\n",
      "189/189 [==============================] - 1s 4ms/step - loss: 0.1043 - accuracy: 0.8850 - val_loss: 0.1046 - val_accuracy: 0.8924\n",
      "Epoch 32/100\n",
      "189/189 [==============================] - 1s 4ms/step - loss: 0.1043 - accuracy: 0.8801 - val_loss: 0.1046 - val_accuracy: 0.8982\n",
      "Epoch 33/100\n",
      "189/189 [==============================] - 1s 4ms/step - loss: 0.1044 - accuracy: 0.8824 - val_loss: 0.1046 - val_accuracy: 0.8785\n",
      "Epoch 34/100\n",
      "189/189 [==============================] - 1s 4ms/step - loss: 0.1042 - accuracy: 0.8803 - val_loss: 0.1046 - val_accuracy: 0.8947\n",
      "Epoch 35/100\n",
      "189/189 [==============================] - 1s 4ms/step - loss: 0.1042 - accuracy: 0.8812 - val_loss: 0.1046 - val_accuracy: 0.9182\n",
      "Epoch 36/100\n",
      "189/189 [==============================] - 1s 4ms/step - loss: 0.1044 - accuracy: 0.8824 - val_loss: 0.1046 - val_accuracy: 0.9256\n",
      "Epoch 37/100\n",
      "189/189 [==============================] - 1s 3ms/step - loss: 0.1044 - accuracy: 0.8805 - val_loss: 0.1046 - val_accuracy: 0.9182\n",
      "Epoch 38/100\n",
      "189/189 [==============================] - 1s 4ms/step - loss: 0.1041 - accuracy: 0.8789 - val_loss: 0.1046 - val_accuracy: 0.8771\n",
      "Epoch 39/100\n",
      "189/189 [==============================] - 1s 4ms/step - loss: 0.1044 - accuracy: 0.8778 - val_loss: 0.1046 - val_accuracy: 0.9007\n",
      "Epoch 40/100\n",
      "189/189 [==============================] - 1s 3ms/step - loss: 0.1041 - accuracy: 0.8858 - val_loss: 0.1046 - val_accuracy: 0.8668\n",
      "Epoch 41/100\n",
      "189/189 [==============================] - 1s 4ms/step - loss: 0.1043 - accuracy: 0.8817 - val_loss: 0.1046 - val_accuracy: 0.9312\n",
      "Epoch 42/100\n",
      "189/189 [==============================] - 1s 4ms/step - loss: 0.1044 - accuracy: 0.8862 - val_loss: 0.1046 - val_accuracy: 0.9068\n",
      "Epoch 43/100\n",
      "189/189 [==============================] - 1s 3ms/step - loss: 0.1043 - accuracy: 0.8879 - val_loss: 0.1046 - val_accuracy: 0.8892\n",
      "Epoch 44/100\n",
      "189/189 [==============================] - 1s 4ms/step - loss: 0.1043 - accuracy: 0.8835 - val_loss: 0.1046 - val_accuracy: 0.8528\n",
      "Epoch 45/100\n",
      "189/189 [==============================] - 1s 4ms/step - loss: 0.1044 - accuracy: 0.8863 - val_loss: 0.1046 - val_accuracy: 0.8876\n",
      "Epoch 46/100\n",
      "189/189 [==============================] - 1s 4ms/step - loss: 0.1043 - accuracy: 0.8843 - val_loss: 0.1046 - val_accuracy: 0.8754\n",
      "Epoch 47/100\n",
      "189/189 [==============================] - 1s 4ms/step - loss: 0.1040 - accuracy: 0.8867 - val_loss: 0.1046 - val_accuracy: 0.8848\n",
      "Epoch 48/100\n",
      "189/189 [==============================] - 1s 4ms/step - loss: 0.1044 - accuracy: 0.8846 - val_loss: 0.1046 - val_accuracy: 0.8829\n",
      "Epoch 49/100\n",
      "189/189 [==============================] - 1s 3ms/step - loss: 0.1044 - accuracy: 0.8845 - val_loss: 0.1046 - val_accuracy: 0.8719\n",
      "Epoch 50/100\n",
      "189/189 [==============================] - 1s 4ms/step - loss: 0.1044 - accuracy: 0.8882 - val_loss: 0.1046 - val_accuracy: 0.9105\n",
      "Epoch 51/100\n",
      "189/189 [==============================] - 1s 4ms/step - loss: 0.1046 - accuracy: 0.8899 - val_loss: 0.1046 - val_accuracy: 0.9427\n",
      "Epoch 52/100\n",
      "189/189 [==============================] - 1s 4ms/step - loss: 0.1044 - accuracy: 0.8933 - val_loss: 0.1046 - val_accuracy: 0.8755\n",
      "Epoch 53/100\n",
      "189/189 [==============================] - 1s 4ms/step - loss: 0.1044 - accuracy: 0.8904 - val_loss: 0.1046 - val_accuracy: 0.8981\n",
      "Epoch 54/100\n",
      "189/189 [==============================] - 1s 4ms/step - loss: 0.1041 - accuracy: 0.8924 - val_loss: 0.1046 - val_accuracy: 0.8621\n",
      "Epoch 55/100\n",
      "189/189 [==============================] - 1s 3ms/step - loss: 0.1042 - accuracy: 0.8902 - val_loss: 0.1046 - val_accuracy: 0.9139\n",
      "Epoch 56/100\n",
      "189/189 [==============================] - 1s 4ms/step - loss: 0.1045 - accuracy: 0.8947 - val_loss: 0.1046 - val_accuracy: 0.9121\n",
      "Epoch 57/100\n",
      "189/189 [==============================] - 1s 4ms/step - loss: 0.1044 - accuracy: 0.8964 - val_loss: 0.1046 - val_accuracy: 0.8844\n",
      "Epoch 58/100\n",
      "189/189 [==============================] - 1s 4ms/step - loss: 0.1044 - accuracy: 0.8980 - val_loss: 0.1046 - val_accuracy: 0.9275\n",
      "Epoch 59/100\n",
      "189/189 [==============================] - 1s 3ms/step - loss: 0.1044 - accuracy: 0.8995 - val_loss: 0.1046 - val_accuracy: 0.9300\n",
      "Epoch 60/100\n",
      "189/189 [==============================] - 1s 4ms/step - loss: 0.1044 - accuracy: 0.9041 - val_loss: 0.1046 - val_accuracy: 0.8990\n",
      "Epoch 61/100\n",
      "189/189 [==============================] - 1s 4ms/step - loss: 0.1046 - accuracy: 0.9032 - val_loss: 0.1046 - val_accuracy: 0.9065\n",
      "Epoch 62/100\n",
      "189/189 [==============================] - 1s 4ms/step - loss: 0.1042 - accuracy: 0.9052 - val_loss: 0.1046 - val_accuracy: 0.9297\n",
      "Epoch 63/100\n",
      "189/189 [==============================] - 1s 4ms/step - loss: 0.1046 - accuracy: 0.9066 - val_loss: 0.1046 - val_accuracy: 0.8933\n",
      "Epoch 64/100\n",
      "189/189 [==============================] - 1s 4ms/step - loss: 0.1043 - accuracy: 0.9137 - val_loss: 0.1046 - val_accuracy: 0.9557\n",
      "Epoch 65/100\n",
      "189/189 [==============================] - 1s 4ms/step - loss: 0.1044 - accuracy: 0.9122 - val_loss: 0.1046 - val_accuracy: 0.8872\n",
      "Epoch 66/100\n",
      "189/189 [==============================] - 1s 4ms/step - loss: 0.1045 - accuracy: 0.9109 - val_loss: 0.1046 - val_accuracy: 0.9039\n",
      "Epoch 67/100\n",
      "189/189 [==============================] - 1s 4ms/step - loss: 0.1042 - accuracy: 0.9150 - val_loss: 0.1046 - val_accuracy: 0.9266\n",
      "Epoch 68/100\n",
      "189/189 [==============================] - 1s 4ms/step - loss: 0.1043 - accuracy: 0.9166 - val_loss: 0.1046 - val_accuracy: 0.8617\n",
      "Epoch 69/100\n",
      "189/189 [==============================] - 1s 4ms/step - loss: 0.1042 - accuracy: 0.9117 - val_loss: 0.1046 - val_accuracy: 0.9324\n",
      "Epoch 70/100\n",
      "189/189 [==============================] - 1s 4ms/step - loss: 0.1043 - accuracy: 0.9167 - val_loss: 0.1046 - val_accuracy: 0.9322\n",
      "Epoch 71/100\n",
      "189/189 [==============================] - 1s 3ms/step - loss: 0.1043 - accuracy: 0.9182 - val_loss: 0.1046 - val_accuracy: 0.9087\n",
      "Epoch 72/100\n",
      "189/189 [==============================] - 1s 4ms/step - loss: 0.1039 - accuracy: 0.9185 - val_loss: 0.1046 - val_accuracy: 0.9133\n",
      "Epoch 73/100\n",
      "189/189 [==============================] - 1s 4ms/step - loss: 0.1045 - accuracy: 0.9195 - val_loss: 0.1046 - val_accuracy: 0.9253\n",
      "Epoch 74/100\n",
      "189/189 [==============================] - 1s 4ms/step - loss: 0.1043 - accuracy: 0.9192 - val_loss: 0.1046 - val_accuracy: 0.9410\n",
      "Epoch 75/100\n",
      "189/189 [==============================] - 1s 4ms/step - loss: 0.1044 - accuracy: 0.9196 - val_loss: 0.1046 - val_accuracy: 0.9420\n",
      "Epoch 76/100\n",
      "189/189 [==============================] - 1s 4ms/step - loss: 0.1043 - accuracy: 0.9227 - val_loss: 0.1046 - val_accuracy: 0.8929\n",
      "Epoch 77/100\n",
      "189/189 [==============================] - 1s 4ms/step - loss: 0.1041 - accuracy: 0.9206 - val_loss: 0.1046 - val_accuracy: 0.9654\n",
      "Epoch 78/100\n",
      "189/189 [==============================] - 1s 4ms/step - loss: 0.1044 - accuracy: 0.9210 - val_loss: 0.1046 - val_accuracy: 0.9148\n",
      "Epoch 79/100\n",
      "189/189 [==============================] - 1s 4ms/step - loss: 0.1043 - accuracy: 0.9199 - val_loss: 0.1046 - val_accuracy: 0.9097\n",
      "Epoch 80/100\n",
      "189/189 [==============================] - 1s 4ms/step - loss: 0.1040 - accuracy: 0.9190 - val_loss: 0.1046 - val_accuracy: 0.9011\n",
      "Epoch 81/100\n",
      "189/189 [==============================] - 1s 4ms/step - loss: 0.1044 - accuracy: 0.9192 - val_loss: 0.1046 - val_accuracy: 0.9179\n",
      "Epoch 82/100\n",
      "189/189 [==============================] - 1s 4ms/step - loss: 0.1045 - accuracy: 0.9207 - val_loss: 0.1046 - val_accuracy: 0.9341\n",
      "Epoch 83/100\n",
      "189/189 [==============================] - 1s 4ms/step - loss: 0.1042 - accuracy: 0.9214 - val_loss: 0.1046 - val_accuracy: 0.9240\n",
      "Epoch 84/100\n",
      "189/189 [==============================] - 1s 4ms/step - loss: 0.1043 - accuracy: 0.9227 - val_loss: 0.1046 - val_accuracy: 0.9378\n",
      "Epoch 85/100\n",
      "189/189 [==============================] - 1s 4ms/step - loss: 0.1045 - accuracy: 0.9238 - val_loss: 0.1046 - val_accuracy: 0.9449\n",
      "Epoch 86/100\n",
      "189/189 [==============================] - 1s 4ms/step - loss: 0.1041 - accuracy: 0.9244 - val_loss: 0.1046 - val_accuracy: 0.9167\n",
      "Epoch 87/100\n",
      "189/189 [==============================] - 1s 4ms/step - loss: 0.1044 - accuracy: 0.9221 - val_loss: 0.1046 - val_accuracy: 0.9044\n",
      "Epoch 88/100\n",
      "189/189 [==============================] - 1s 4ms/step - loss: 0.1044 - accuracy: 0.9212 - val_loss: 0.1046 - val_accuracy: 0.8906\n",
      "Epoch 89/100\n",
      "189/189 [==============================] - 1s 4ms/step - loss: 0.1043 - accuracy: 0.9210 - val_loss: 0.1046 - val_accuracy: 0.9201\n",
      "Epoch 90/100\n",
      "189/189 [==============================] - 1s 4ms/step - loss: 0.1042 - accuracy: 0.9223 - val_loss: 0.1046 - val_accuracy: 0.9461\n",
      "Epoch 91/100\n",
      "189/189 [==============================] - 1s 4ms/step - loss: 0.1042 - accuracy: 0.9221 - val_loss: 0.1046 - val_accuracy: 0.9488\n",
      "Epoch 92/100\n",
      "189/189 [==============================] - 1s 4ms/step - loss: 0.1046 - accuracy: 0.9232 - val_loss: 0.1046 - val_accuracy: 0.8920\n",
      "Epoch 93/100\n",
      "189/189 [==============================] - 1s 4ms/step - loss: 0.1044 - accuracy: 0.9221 - val_loss: 0.1046 - val_accuracy: 0.8819\n",
      "Epoch 94/100\n",
      "189/189 [==============================] - 1s 4ms/step - loss: 0.1044 - accuracy: 0.9195 - val_loss: 0.1046 - val_accuracy: 0.9473\n",
      "Epoch 95/100\n",
      "189/189 [==============================] - 1s 4ms/step - loss: 0.1041 - accuracy: 0.9203 - val_loss: 0.1046 - val_accuracy: 0.9172\n",
      "Epoch 96/100\n",
      "189/189 [==============================] - 1s 4ms/step - loss: 0.1046 - accuracy: 0.9234 - val_loss: 0.1046 - val_accuracy: 0.8926\n",
      "Epoch 97/100\n",
      "189/189 [==============================] - 1s 4ms/step - loss: 0.1043 - accuracy: 0.9232 - val_loss: 0.1046 - val_accuracy: 0.8981\n",
      "Epoch 98/100\n",
      "189/189 [==============================] - 1s 4ms/step - loss: 0.1045 - accuracy: 0.9211 - val_loss: 0.1046 - val_accuracy: 0.9458\n",
      "Epoch 99/100\n",
      "189/189 [==============================] - 1s 4ms/step - loss: 0.1042 - accuracy: 0.9226 - val_loss: 0.1046 - val_accuracy: 0.9545\n",
      "Epoch 100/100\n",
      "189/189 [==============================] - 1s 4ms/step - loss: 0.1044 - accuracy: 0.9218 - val_loss: 0.1046 - val_accuracy: 0.9123\n"
     ]
    }
   ],
   "source": [
    "# training the model on training dataset\n",
    "history = autoencoder.fit(X_train, X_train, epochs=100,batch_size=500,validation_data=(X_test, X_test)).history"
   ]
  },
  {
   "cell_type": "code",
   "execution_count": null,
   "metadata": {
    "colab": {
     "base_uri": "https://localhost:8080/"
    },
    "id": "mLGADfZb2RPo",
    "outputId": "09081ccd-ef6b-44e5-d730-a2f434d1e5a2"
   },
   "outputs": [
    {
     "name": "stdout",
     "output_type": "stream",
     "text": [
      "Saved model to disk\n",
      "Loaded model from disk\n"
     ]
    }
   ],
   "source": [
    "filepath = './models/ae_multi.json'\n",
    "weightspath = './weights/ae_multi.h5'\n",
    "if (not path.isfile(filepath)):  \n",
    "  # serialize model to JSON\n",
    "  autoencoder_json = autoencoder.to_json()\n",
    "  with open(filepath, \"w\") as json_file:\n",
    "    json_file.write(autoencoder_json)\n",
    "\n",
    "  # serialize weights to HDF5\n",
    "  autoencoder.save_weights(weightspath)\n",
    "  print(\"Saved model to disk\")\n",
    "\n",
    "  # load json and create model\n",
    "  json_file = open(filepath, 'r')\n",
    "  loaded_model_json = json_file.read()\n",
    "  json_file.close()\n",
    "  autoencoder = model_from_json(loaded_model_json)\n",
    "\n",
    "  # load weights into new model\n",
    "  autoencoder.load_weights(weightspath)\n",
    "  print(\"Loaded model from disk\")"
   ]
  },
  {
   "cell_type": "code",
   "execution_count": null,
   "metadata": {
    "id": "yZKaeUx82Plg"
   },
   "outputs": [],
   "source": [
    "# defining loss function, optimizer, metrics and then compiling model\n",
    "autoencoder.compile(optimizer='adam', loss='mean_squared_error',metrics=['accuracy'])"
   ]
  },
  {
   "cell_type": "code",
   "execution_count": null,
   "metadata": {
    "colab": {
     "base_uri": "https://localhost:8080/"
    },
    "id": "k6FP2WyL45il",
    "outputId": "346f84fc-47a4-4f00-8eb2-8330b9ffc04b"
   },
   "outputs": [
    {
     "name": "stdout",
     "output_type": "stream",
     "text": [
      "985/985 [==============================] - 1s 989us/step - loss: 0.1044 - accuracy: 0.9095\n",
      "Test results - Loss: 0.10456941276788712 - Accuracy: 91.22689962387085%\n"
     ]
    }
   ],
   "source": [
    "# predicting target attribute on testing dataset\n",
    "test_results = autoencoder.evaluate(X_test, X_test, verbose=1)\n",
    "print(f'Test results - Loss: {test_results[0]} - Accuracy: {test_results[1]*100}%')"
   ]
  },
  {
   "cell_type": "code",
   "execution_count": null,
   "metadata": {
    "colab": {
     "base_uri": "https://localhost:8080/",
     "height": 295
    },
    "id": "ozvJupCe8nd_",
    "outputId": "fda15698-b278-4682-8374-8ff1f96fd3e8"
   },
   "outputs": [
    {
     "data": {
      "image/png": "[encoded data removed]",
      "text/plain": [
       "<Figure size 432x288 with 1 Axes>"
      ]
     },
     "metadata": {
      "needs_background": "light",
      "tags": []
     },
     "output_type": "display_data"
    }
   ],
   "source": [
    "# Plot of loss vs epoch of train and test dataset\n",
    "plt.plot(history['loss'])\n",
    "plt.plot(history['val_loss'])\n",
    "plt.title(\"Plot of loss vs epoch for train and test dataset\")\n",
    "plt.ylabel('loss')\n",
    "plt.xlabel('epoch')\n",
    "plt.legend(['train', 'test'], loc='upper right')\n",
    "plt.savefig('plots/ae_multi_loss.png')\n",
    "plt.show()"
   ]
  },
  {
   "cell_type": "code",
   "execution_count": null,
   "metadata": {
    "colab": {
     "base_uri": "https://localhost:8080/",
     "height": 295
    },
    "id": "cYRK9MR-8rPN",
    "outputId": "16619e31-bd72-4091-9a0a-9e67108ec9fe"
   },
   "outputs": [
    {
     "data": {
      "image/png": "[encoded data removed]",
      "text/plain": [
       "<Figure size 432x288 with 1 Axes>"
      ]
     },
     "metadata": {
      "needs_background": "light",
      "tags": []
     },
     "output_type": "display_data"
    }
   ],
   "source": [
    "# Plot of loss vs epoch of train and test dataset\n",
    "plt.plot(history['accuracy'])\n",
    "plt.plot(history['val_accuracy'])\n",
    "plt.title(\"Plot of accuracy vs epoch for train and test dataset\")\n",
    "plt.ylabel('accuracy')\n",
    "plt.xlabel('epoch')\n",
    "plt.legend(['train', 'test'], loc='best')\n",
    "plt.savefig('plots/ae_multi_accuracy.png')\n",
    "plt.show()"
   ]
  },
  {
   "cell_type": "code",
   "execution_count": null,
   "metadata": {
    "colab": {
     "base_uri": "https://localhost:8080/",
     "height": 312
    },
    "id": "B5sSYUlU5AQd",
    "outputId": "f1f5849a-db04-4d36-ff31-03a5c501e2da"
   },
   "outputs": [
    {
     "data": {
      "image/png": "[encoded data removed]",
      "text/plain": [
       "<IPython.core.display.Image object>"
      ]
     },
     "execution_count": 216,
     "metadata": {
      "tags": []
     },
     "output_type": "execute_result"
    }
   ],
   "source": [
    "# representation of model layers\n",
    "plot_model(autoencoder, to_file='plots/ae_multi.png', show_shapes=True,)"
   ]
  },
  {
   "cell_type": "code",
   "execution_count": null,
   "metadata": {
    "id": "EL_GdCLX8xmB"
   },
   "outputs": [],
   "source": [
    "# calculating reconstruction error\n",
    "predictions = autoencoder.predict(X_test)"
   ]
  },
  {
   "cell_type": "code",
   "execution_count": null,
   "metadata": {
    "id": "HiA_107u8443"
   },
   "outputs": [],
   "source": [
    "mse = np.mean(np.power(X_test - predictions, 2), axis=1)\n",
    "error_df = pd.DataFrame({'reconstruction_error': mse,\n",
    "                        'true_class': y_test})"
   ]
  },
  {
   "cell_type": "code",
   "execution_count": null,
   "metadata": {
    "colab": {
     "base_uri": "https://localhost:8080/",
     "height": 297
    },
    "id": "7p0ih_628858",
    "outputId": "a4c5e3f3-3d2e-4d46-9e56-7b68538175a0"
   },
   "outputs": [
    {
     "data": {
      "text/html": [
       "<div>\n",
       "<style scoped>\n",
       "    .dataframe tbody tr th:only-of-type {\n",
       "        vertical-align: middle;\n",
       "    }\n",
       "\n",
       "    .dataframe tbody tr th {\n",
       "        vertical-align: top;\n",
       "    }\n",
       "\n",
       "    .dataframe thead th {\n",
       "        text-align: right;\n",
       "    }\n",
       "</style>\n",
       "<table border=\"1\" class=\"dataframe\">\n",
       "  <thead>\n",
       "    <tr style=\"text-align: right;\">\n",
       "      <th></th>\n",
       "      <th>reconstruction_error</th>\n",
       "      <th>true_class</th>\n",
       "    </tr>\n",
       "  </thead>\n",
       "  <tbody>\n",
       "    <tr>\n",
       "      <th>count</th>\n",
       "      <td>31494.000000</td>\n",
       "      <td>31494.000000</td>\n",
       "    </tr>\n",
       "    <tr>\n",
       "      <th>mean</th>\n",
       "      <td>0.104569</td>\n",
       "      <td>2.242840</td>\n",
       "    </tr>\n",
       "    <tr>\n",
       "      <th>std</th>\n",
       "      <td>0.043572</td>\n",
       "      <td>1.903732</td>\n",
       "    </tr>\n",
       "    <tr>\n",
       "      <th>min</th>\n",
       "      <td>0.040634</td>\n",
       "      <td>0.000000</td>\n",
       "    </tr>\n",
       "    <tr>\n",
       "      <th>25%</th>\n",
       "      <td>0.074501</td>\n",
       "      <td>0.000000</td>\n",
       "    </tr>\n",
       "    <tr>\n",
       "      <th>50%</th>\n",
       "      <td>0.083821</td>\n",
       "      <td>4.000000</td>\n",
       "    </tr>\n",
       "    <tr>\n",
       "      <th>75%</th>\n",
       "      <td>0.151404</td>\n",
       "      <td>4.000000</td>\n",
       "    </tr>\n",
       "    <tr>\n",
       "      <th>max</th>\n",
       "      <td>0.229786</td>\n",
       "      <td>4.000000</td>\n",
       "    </tr>\n",
       "  </tbody>\n",
       "</table>\n",
       "</div>"
      ],
      "text/plain": [
       "       reconstruction_error    true_class\n",
       "count          31494.000000  31494.000000\n",
       "mean               0.104569      2.242840\n",
       "std                0.043572      1.903732\n",
       "min                0.040634      0.000000\n",
       "25%                0.074501      0.000000\n",
       "50%                0.083821      4.000000\n",
       "75%                0.151404      4.000000\n",
       "max                0.229786      4.000000"
      ]
     },
     "execution_count": 219,
     "metadata": {
      "tags": []
     },
     "output_type": "execute_result"
    }
   ],
   "source": [
    "error_df.describe()"
   ]
  },
  {
   "cell_type": "code",
   "execution_count": null,
   "metadata": {
    "id": "aLLK_7t_r1Ey"
   },
   "outputs": [],
   "source": []
  }
 ],
 "metadata": {
  "colab": {
   "collapsed_sections": [],
   "name": "Classifiers_NSL-KDD.ipynb",
   "provenance": [],
   "toc_visible": true
  },
  "kernelspec": {
   "display_name": "Python 3",
   "language": "python",
   "name": "python3"
  },
  "language_info": {
   "codemirror_mode": {
    "name": "ipython",
    "version": 3
   },
   "file_extension": ".py",
   "mimetype": "text/x-python",
   "name": "python",
   "nbconvert_exporter": "python",
   "pygments_lexer": "ipython3",
   "version": "3.8.8"
  }
 },
 "nbformat": 4,
 "nbformat_minor": 1
}
