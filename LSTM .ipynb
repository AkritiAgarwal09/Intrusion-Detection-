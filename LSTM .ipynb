{
 "cells": [
  {
   "cell_type": "code",
   "execution_count": 1,
   "metadata": {
    "id": "7MblIbMu31gO"
   },
   "outputs": [],
   "source": [
    "from sklearn.metrics import accuracy_score # for calculating accuracy of model\n",
    "from sklearn.model_selection import train_test_split # for splitting the dataset for training and testing\n",
    "from sklearn.metrics import classification_report # for generating a classification report of model\n",
    "import pickle # saving and loading trained model\n",
    "from os import path\n",
    "import numpy as np\n",
    "import pandas as pd\n",
    "import matplotlib.pyplot as plt"
   ]
  },
  {
   "cell_type": "code",
   "execution_count": 34,
   "metadata": {
    "id": "DriCvhiI4JTH"
   },
   "outputs": [],
   "source": [
    "bin_data = pd.read_csv('datasets/bin_data.csv')\n",
    "bin_data.drop(bin_data.columns[0],axis=1,inplace=True)\n",
    "multi_data = pd.read_csv('datasets/multi_data.csv')\n",
    "multi_data.drop(multi_data.columns[0],axis=1,inplace=True)\n",
    "le1_classes_ = np.load('labels/le1_classes.npy',allow_pickle=True)\n",
    "le2_classes_ = np.load('le2_classes.npy',allow_pickle=True)"
   ]
  },
  {
   "cell_type": "markdown",
   "metadata": {
    "id": "ZOUNj1J8Hhzo"
   },
   "source": [
    "# **Long Short-Term Memory Classifier (Binary Classification)**"
   ]
  },
  {
   "cell_type": "code",
   "execution_count": null,
   "metadata": {
    "id": "7Twh09eaIMIs"
   },
   "outputs": [],
   "source": [
    "# importing library for LSTM layers\n",
    "from keras.layers import LSTM"
   ]
  },
  {
   "cell_type": "code",
   "execution_count": null,
   "metadata": {
    "id": "0NuShoBumsdn"
   },
   "outputs": [],
   "source": [
    "X = bin_data.iloc[:,0:93] # dataset excluding target attribute (encoded, one-hot-encoded,original)\n",
    "Y = bin_data[['intrusion']].values # target attribute"
   ]
  },
  {
   "cell_type": "code",
   "execution_count": null,
   "metadata": {
    "id": "rlH9mkLimrYW"
   },
   "outputs": [],
   "source": [
    "# splitting the dataset 75% for training and 25% testing\n",
    "X_train, X_test, y_train, y_test = train_test_split(X,Y, test_size=0.25, random_state=42)"
   ]
  },
  {
   "cell_type": "code",
   "execution_count": null,
   "metadata": {
    "id": "15q5ptxAIWGt"
   },
   "outputs": [],
   "source": [
    "X_train = X_train.to_numpy()"
   ]
  },
  {
   "cell_type": "code",
   "execution_count": null,
   "metadata": {
    "id": "nJA6scawIW6U"
   },
   "outputs": [],
   "source": [
    "x_train = np.reshape(X_train, (X_train.shape[0],X_train.shape[1],1))"
   ]
  },
  {
   "cell_type": "code",
   "execution_count": null,
   "metadata": {
    "id": "o8piatdjHo4w"
   },
   "outputs": [],
   "source": [
    "lst = Sequential() # initializing model\n",
    "\n",
    "# input layer and LSTM layer with 50 neurons\n",
    "lst.add(LSTM(units=50, return_sequences=True, input_shape=(x_train.shape[1],1)))\n",
    "# outpute layer with sigmoid activation\n",
    "lst.add(Dense(1, activation='sigmoid'))"
   ]
  },
  {
   "cell_type": "code",
   "execution_count": null,
   "metadata": {
    "id": "6ekKF6NFH_Iw"
   },
   "outputs": [],
   "source": [
    "# defining loss function, optimizer, metrics and then compiling model\n",
    "lst.compile(loss='binary_crossentropy',optimizer='adam',metrics=['accuracy'])"
   ]
  },
  {
   "cell_type": "code",
   "execution_count": null,
   "metadata": {
    "colab": {
     "base_uri": "https://localhost:8080/"
    },
    "id": "nXF6pt7JlKxO",
    "outputId": "ec196c0a-72bf-4cc0-b8a3-95feff47cdb9"
   },
   "outputs": [
    {
     "name": "stdout",
     "output_type": "stream",
     "text": [
      "Model: \"sequential_1\"\n",
      "_________________________________________________________________\n",
      "Layer (type)                 Output Shape              Param #   \n",
      "=================================================================\n",
      "lstm_1 (LSTM)                (None, 93, 50)            10400     \n",
      "_________________________________________________________________\n",
      "dense_1 (Dense)              (None, 93, 1)             51        \n",
      "=================================================================\n",
      "Total params: 10,451\n",
      "Trainable params: 10,451\n",
      "Non-trainable params: 0\n",
      "_________________________________________________________________\n"
     ]
    }
   ],
   "source": [
    "# summary of model layers\n",
    "lst.summary()"
   ]
  },
  {
   "cell_type": "code",
   "execution_count": null,
   "metadata": {
    "colab": {
     "base_uri": "https://localhost:8080/"
    },
    "id": "peataArRecpK",
    "outputId": "01a36ce0-163b-4ac3-c0bf-fd6c0c4a608b"
   },
   "outputs": [
    {
     "name": "stdout",
     "output_type": "stream",
     "text": [
      "Epoch 1/100\n",
      "16/16 [==============================] - 29s 2s/step - loss: 0.6915 - accuracy: 0.5119 - val_loss: 0.6863 - val_accuracy: 0.5798\n",
      "Epoch 2/100\n",
      "16/16 [==============================] - 26s 2s/step - loss: 0.6487 - accuracy: 0.6194 - val_loss: 0.4693 - val_accuracy: 0.8163\n",
      "Epoch 3/100\n",
      "16/16 [==============================] - 25s 2s/step - loss: 0.4611 - accuracy: 0.8119 - val_loss: 0.4278 - val_accuracy: 0.8231\n",
      "Epoch 4/100\n",
      "16/16 [==============================] - 25s 2s/step - loss: 0.4374 - accuracy: 0.8158 - val_loss: 0.4351 - val_accuracy: 0.8118\n",
      "Epoch 5/100\n",
      "16/16 [==============================] - 25s 2s/step - loss: 0.4359 - accuracy: 0.8105 - val_loss: 0.4117 - val_accuracy: 0.8281\n",
      "Epoch 6/100\n",
      "16/16 [==============================] - 25s 2s/step - loss: 0.4162 - accuracy: 0.8260 - val_loss: 0.4076 - val_accuracy: 0.8300\n",
      "Epoch 7/100\n",
      "16/16 [==============================] - 25s 2s/step - loss: 0.4156 - accuracy: 0.8265 - val_loss: 0.4064 - val_accuracy: 0.8305\n",
      "Epoch 8/100\n",
      "16/16 [==============================] - 26s 2s/step - loss: 0.4146 - accuracy: 0.8263 - val_loss: 0.4050 - val_accuracy: 0.8308\n",
      "Epoch 9/100\n",
      "16/16 [==============================] - 26s 2s/step - loss: 0.4108 - accuracy: 0.8274 - val_loss: 0.3915 - val_accuracy: 0.8318\n",
      "Epoch 10/100\n",
      "16/16 [==============================] - 25s 2s/step - loss: 0.3847 - accuracy: 0.8281 - val_loss: 0.3541 - val_accuracy: 0.8320\n",
      "Epoch 11/100\n",
      "16/16 [==============================] - 25s 2s/step - loss: 0.3520 - accuracy: 0.8276 - val_loss: 0.3428 - val_accuracy: 0.8321\n",
      "Epoch 12/100\n",
      "16/16 [==============================] - 25s 2s/step - loss: 0.3366 - accuracy: 0.8290 - val_loss: 0.3394 - val_accuracy: 0.7968\n",
      "Epoch 13/100\n",
      "16/16 [==============================] - 28s 2s/step - loss: 0.3318 - accuracy: 0.8095 - val_loss: 0.3101 - val_accuracy: 0.8496\n",
      "Epoch 14/100\n",
      "16/16 [==============================] - 28s 2s/step - loss: 0.3196 - accuracy: 0.8279 - val_loss: 0.3273 - val_accuracy: 0.7995\n",
      "Epoch 15/100\n",
      "16/16 [==============================] - 27s 2s/step - loss: 0.3397 - accuracy: 0.8185 - val_loss: 0.4559 - val_accuracy: 0.7544\n",
      "Epoch 16/100\n",
      "16/16 [==============================] - 28s 2s/step - loss: 0.4291 - accuracy: 0.7626 - val_loss: 0.3367 - val_accuracy: 0.8271\n",
      "Epoch 17/100\n",
      "16/16 [==============================] - 28s 2s/step - loss: 0.3351 - accuracy: 0.8235 - val_loss: 0.3342 - val_accuracy: 0.8301\n",
      "Epoch 18/100\n",
      "16/16 [==============================] - 28s 2s/step - loss: 0.3505 - accuracy: 0.8320 - val_loss: 0.3216 - val_accuracy: 0.8756\n",
      "Epoch 19/100\n",
      "16/16 [==============================] - 28s 2s/step - loss: 0.3276 - accuracy: 0.8794 - val_loss: 0.3200 - val_accuracy: 0.8839\n",
      "Epoch 20/100\n",
      "16/16 [==============================] - 27s 2s/step - loss: 0.3256 - accuracy: 0.8812 - val_loss: 0.3184 - val_accuracy: 0.8793\n",
      "Epoch 21/100\n",
      "16/16 [==============================] - 28s 2s/step - loss: 0.3191 - accuracy: 0.8837 - val_loss: 0.3162 - val_accuracy: 0.8825\n",
      "Epoch 22/100\n",
      "16/16 [==============================] - 27s 2s/step - loss: 0.3165 - accuracy: 0.8858 - val_loss: 0.3149 - val_accuracy: 0.8816\n",
      "Epoch 23/100\n",
      "16/16 [==============================] - 28s 2s/step - loss: 0.3180 - accuracy: 0.8831 - val_loss: 0.3072 - val_accuracy: 0.8826\n",
      "Epoch 24/100\n",
      "16/16 [==============================] - 28s 2s/step - loss: 0.3003 - accuracy: 0.8852 - val_loss: 0.2902 - val_accuracy: 0.8832\n",
      "Epoch 25/100\n",
      "16/16 [==============================] - 27s 2s/step - loss: 0.2899 - accuracy: 0.8854 - val_loss: 0.2931 - val_accuracy: 0.8835\n",
      "Epoch 26/100\n",
      "16/16 [==============================] - 28s 2s/step - loss: 0.2885 - accuracy: 0.8863 - val_loss: 0.2903 - val_accuracy: 0.8821\n",
      "Epoch 27/100\n",
      "16/16 [==============================] - 28s 2s/step - loss: 0.2930 - accuracy: 0.8796 - val_loss: 0.3103 - val_accuracy: 0.8819\n",
      "Epoch 28/100\n",
      "16/16 [==============================] - 27s 2s/step - loss: 0.3068 - accuracy: 0.8831 - val_loss: 0.3127 - val_accuracy: 0.8631\n",
      "Epoch 29/100\n",
      "16/16 [==============================] - 28s 2s/step - loss: 0.3103 - accuracy: 0.8656 - val_loss: 0.3079 - val_accuracy: 0.8703\n",
      "Epoch 30/100\n",
      "16/16 [==============================] - 28s 2s/step - loss: 0.3017 - accuracy: 0.8773 - val_loss: 0.2905 - val_accuracy: 0.8810\n",
      "Epoch 31/100\n",
      "16/16 [==============================] - 27s 2s/step - loss: 0.2882 - accuracy: 0.8847 - val_loss: 0.2871 - val_accuracy: 0.8835\n",
      "Epoch 32/100\n",
      "16/16 [==============================] - 27s 2s/step - loss: 0.2965 - accuracy: 0.8828 - val_loss: 0.3060 - val_accuracy: 0.8759\n",
      "Epoch 33/100\n",
      "16/16 [==============================] - 27s 2s/step - loss: 0.2952 - accuracy: 0.8820 - val_loss: 0.3054 - val_accuracy: 0.8842\n",
      "Epoch 34/100\n",
      "16/16 [==============================] - 27s 2s/step - loss: 0.3048 - accuracy: 0.8842 - val_loss: 0.2881 - val_accuracy: 0.8813\n",
      "Epoch 35/100\n",
      "16/16 [==============================] - 27s 2s/step - loss: 0.2847 - accuracy: 0.8854 - val_loss: 0.3601 - val_accuracy: 0.8413\n",
      "Epoch 36/100\n",
      "16/16 [==============================] - 27s 2s/step - loss: 0.4467 - accuracy: 0.8329 - val_loss: 0.4251 - val_accuracy: 0.8320\n",
      "Epoch 37/100\n",
      "16/16 [==============================] - 27s 2s/step - loss: 0.4209 - accuracy: 0.8290 - val_loss: 0.3997 - val_accuracy: 0.8348\n",
      "Epoch 38/100\n",
      "16/16 [==============================] - 27s 2s/step - loss: 0.4066 - accuracy: 0.8313 - val_loss: 0.3984 - val_accuracy: 0.8378\n",
      "Epoch 39/100\n",
      "16/16 [==============================] - 27s 2s/step - loss: 0.4023 - accuracy: 0.8357 - val_loss: 0.3921 - val_accuracy: 0.8411\n",
      "Epoch 40/100\n",
      "16/16 [==============================] - 27s 2s/step - loss: 0.3916 - accuracy: 0.8434 - val_loss: 0.3378 - val_accuracy: 0.8826\n",
      "Epoch 41/100\n",
      "16/16 [==============================] - 28s 2s/step - loss: 0.3374 - accuracy: 0.8813 - val_loss: 0.3244 - val_accuracy: 0.8781\n",
      "Epoch 42/100\n",
      "16/16 [==============================] - 27s 2s/step - loss: 0.3235 - accuracy: 0.8807 - val_loss: 0.3173 - val_accuracy: 0.8797\n",
      "Epoch 43/100\n",
      "16/16 [==============================] - 28s 2s/step - loss: 0.3186 - accuracy: 0.8822 - val_loss: 0.3149 - val_accuracy: 0.8834\n",
      "Epoch 44/100\n",
      "16/16 [==============================] - 27s 2s/step - loss: 0.3172 - accuracy: 0.8845 - val_loss: 0.3175 - val_accuracy: 0.8785\n",
      "Epoch 45/100\n",
      "16/16 [==============================] - 28s 2s/step - loss: 0.3201 - accuracy: 0.8790 - val_loss: 0.3171 - val_accuracy: 0.8769\n",
      "Epoch 46/100\n",
      "16/16 [==============================] - 28s 2s/step - loss: 0.3177 - accuracy: 0.8807 - val_loss: 0.3162 - val_accuracy: 0.8789\n",
      "Epoch 47/100\n",
      "16/16 [==============================] - 28s 2s/step - loss: 0.3188 - accuracy: 0.8804 - val_loss: 0.3153 - val_accuracy: 0.8795\n",
      "Epoch 48/100\n",
      "16/16 [==============================] - 28s 2s/step - loss: 0.3160 - accuracy: 0.8825 - val_loss: 0.3120 - val_accuracy: 0.8832\n",
      "Epoch 49/100\n",
      "16/16 [==============================] - 27s 2s/step - loss: 0.3154 - accuracy: 0.8832 - val_loss: 0.3090 - val_accuracy: 0.8838\n",
      "Epoch 50/100\n",
      "16/16 [==============================] - 27s 2s/step - loss: 0.3122 - accuracy: 0.8841 - val_loss: 0.2955 - val_accuracy: 0.8845\n",
      "Epoch 51/100\n",
      "16/16 [==============================] - 27s 2s/step - loss: 0.2942 - accuracy: 0.8856 - val_loss: 0.2884 - val_accuracy: 0.8855\n",
      "Epoch 52/100\n",
      "16/16 [==============================] - 27s 2s/step - loss: 0.2921 - accuracy: 0.8851 - val_loss: 0.2868 - val_accuracy: 0.8851\n",
      "Epoch 53/100\n",
      "16/16 [==============================] - 28s 2s/step - loss: 0.2879 - accuracy: 0.8854 - val_loss: 0.2825 - val_accuracy: 0.8865\n",
      "Epoch 54/100\n",
      "16/16 [==============================] - 28s 2s/step - loss: 0.2863 - accuracy: 0.8868 - val_loss: 0.2915 - val_accuracy: 0.8806\n",
      "Epoch 55/100\n",
      "16/16 [==============================] - 27s 2s/step - loss: 0.2924 - accuracy: 0.8824 - val_loss: 0.2905 - val_accuracy: 0.8864\n",
      "Epoch 56/100\n",
      "16/16 [==============================] - 27s 2s/step - loss: 0.2942 - accuracy: 0.8854 - val_loss: 0.3004 - val_accuracy: 0.8831\n",
      "Epoch 57/100\n",
      "16/16 [==============================] - 27s 2s/step - loss: 0.2946 - accuracy: 0.8868 - val_loss: 0.2938 - val_accuracy: 0.8857\n",
      "Epoch 58/100\n",
      "16/16 [==============================] - 28s 2s/step - loss: 0.3071 - accuracy: 0.8669 - val_loss: 0.3347 - val_accuracy: 0.8330\n",
      "Epoch 59/100\n",
      "16/16 [==============================] - 27s 2s/step - loss: 0.3307 - accuracy: 0.8297 - val_loss: 0.3176 - val_accuracy: 0.8336\n",
      "Epoch 60/100\n",
      "16/16 [==============================] - 27s 2s/step - loss: 0.3132 - accuracy: 0.8397 - val_loss: 0.3026 - val_accuracy: 0.8546\n",
      "Epoch 61/100\n",
      "16/16 [==============================] - 27s 2s/step - loss: 0.3144 - accuracy: 0.8382 - val_loss: 0.3056 - val_accuracy: 0.8400\n",
      "Epoch 62/100\n",
      "16/16 [==============================] - 27s 2s/step - loss: 0.3094 - accuracy: 0.8358 - val_loss: 0.3042 - val_accuracy: 0.8646\n",
      "Epoch 63/100\n",
      "16/16 [==============================] - 27s 2s/step - loss: 0.3036 - accuracy: 0.8599 - val_loss: 0.3266 - val_accuracy: 0.8117\n",
      "Epoch 64/100\n",
      "16/16 [==============================] - 27s 2s/step - loss: 0.3421 - accuracy: 0.8478 - val_loss: 0.4597 - val_accuracy: 0.8331\n",
      "Epoch 65/100\n",
      "16/16 [==============================] - 28s 2s/step - loss: 0.4486 - accuracy: 0.8279 - val_loss: 0.3927 - val_accuracy: 0.8376\n",
      "Epoch 66/100\n",
      "16/16 [==============================] - 28s 2s/step - loss: 0.4004 - accuracy: 0.8341 - val_loss: 0.3942 - val_accuracy: 0.8391\n",
      "Epoch 67/100\n",
      "16/16 [==============================] - 28s 2s/step - loss: 0.3977 - accuracy: 0.8362 - val_loss: 0.3895 - val_accuracy: 0.8391\n",
      "Epoch 68/100\n",
      "16/16 [==============================] - 28s 2s/step - loss: 0.3919 - accuracy: 0.8387 - val_loss: 0.3876 - val_accuracy: 0.8403\n",
      "Epoch 69/100\n",
      "16/16 [==============================] - 28s 2s/step - loss: 0.3932 - accuracy: 0.8375 - val_loss: 0.3836 - val_accuracy: 0.8432\n",
      "Epoch 70/100\n",
      "16/16 [==============================] - 27s 2s/step - loss: 0.3817 - accuracy: 0.8459 - val_loss: 0.3314 - val_accuracy: 0.8852\n",
      "Epoch 71/100\n",
      "16/16 [==============================] - 28s 2s/step - loss: 0.3256 - accuracy: 0.8852 - val_loss: 0.3098 - val_accuracy: 0.8832\n",
      "Epoch 72/100\n",
      "16/16 [==============================] - 28s 2s/step - loss: 0.3118 - accuracy: 0.8856 - val_loss: 0.3081 - val_accuracy: 0.8847\n",
      "Epoch 73/100\n",
      "16/16 [==============================] - 28s 2s/step - loss: 0.3109 - accuracy: 0.8868 - val_loss: 0.3085 - val_accuracy: 0.8930\n",
      "Epoch 74/100\n",
      "16/16 [==============================] - 27s 2s/step - loss: 0.3107 - accuracy: 0.8922 - val_loss: 0.3065 - val_accuracy: 0.8915\n",
      "Epoch 75/100\n",
      "16/16 [==============================] - 28s 2s/step - loss: 0.3068 - accuracy: 0.8934 - val_loss: 0.3087 - val_accuracy: 0.8898\n",
      "Epoch 76/100\n",
      "16/16 [==============================] - 28s 2s/step - loss: 0.3120 - accuracy: 0.8897 - val_loss: 0.3037 - val_accuracy: 0.8941\n",
      "Epoch 77/100\n",
      "16/16 [==============================] - 28s 2s/step - loss: 0.3087 - accuracy: 0.8920 - val_loss: 0.3064 - val_accuracy: 0.8899\n",
      "Epoch 78/100\n",
      "16/16 [==============================] - 28s 2s/step - loss: 0.3068 - accuracy: 0.8915 - val_loss: 0.3040 - val_accuracy: 0.8902\n",
      "Epoch 79/100\n",
      "16/16 [==============================] - 28s 2s/step - loss: 0.3031 - accuracy: 0.8927 - val_loss: 0.3025 - val_accuracy: 0.8902\n",
      "Epoch 80/100\n",
      "16/16 [==============================] - 28s 2s/step - loss: 0.2999 - accuracy: 0.8937 - val_loss: 0.3034 - val_accuracy: 0.8903\n",
      "Epoch 81/100\n",
      "16/16 [==============================] - 28s 2s/step - loss: 0.3049 - accuracy: 0.8913 - val_loss: 0.3029 - val_accuracy: 0.8915\n",
      "Epoch 82/100\n",
      "16/16 [==============================] - 28s 2s/step - loss: 0.3036 - accuracy: 0.8938 - val_loss: 0.3010 - val_accuracy: 0.8931\n",
      "Epoch 83/100\n",
      "16/16 [==============================] - 28s 2s/step - loss: 0.3037 - accuracy: 0.8939 - val_loss: 0.3009 - val_accuracy: 0.8943\n",
      "Epoch 84/100\n",
      "16/16 [==============================] - 28s 2s/step - loss: 0.3016 - accuracy: 0.8954 - val_loss: 0.3063 - val_accuracy: 0.8894\n",
      "Epoch 85/100\n",
      "16/16 [==============================] - 28s 2s/step - loss: 0.3048 - accuracy: 0.8921 - val_loss: 0.3038 - val_accuracy: 0.8913\n",
      "Epoch 86/100\n",
      "16/16 [==============================] - 28s 2s/step - loss: 0.3052 - accuracy: 0.8931 - val_loss: 0.3022 - val_accuracy: 0.8924\n",
      "Epoch 87/100\n",
      "16/16 [==============================] - 27s 2s/step - loss: 0.3035 - accuracy: 0.8936 - val_loss: 0.3010 - val_accuracy: 0.8918\n",
      "Epoch 88/100\n",
      "16/16 [==============================] - 28s 2s/step - loss: 0.3043 - accuracy: 0.8922 - val_loss: 0.3011 - val_accuracy: 0.8918\n",
      "Epoch 89/100\n",
      "16/16 [==============================] - 28s 2s/step - loss: 0.3002 - accuracy: 0.8938 - val_loss: 0.3038 - val_accuracy: 0.8882\n",
      "Epoch 90/100\n",
      "16/16 [==============================] - 28s 2s/step - loss: 0.3103 - accuracy: 0.8829 - val_loss: 0.3093 - val_accuracy: 0.8597\n",
      "Epoch 91/100\n",
      "16/16 [==============================] - 28s 2s/step - loss: 0.2955 - accuracy: 0.8646 - val_loss: 0.2801 - val_accuracy: 0.8839\n",
      "Epoch 92/100\n",
      "16/16 [==============================] - 28s 2s/step - loss: 0.2940 - accuracy: 0.8744 - val_loss: 0.2826 - val_accuracy: 0.8840\n",
      "Epoch 93/100\n",
      "16/16 [==============================] - 28s 2s/step - loss: 0.2805 - accuracy: 0.8809 - val_loss: 0.2775 - val_accuracy: 0.8902\n",
      "Epoch 94/100\n",
      "16/16 [==============================] - 28s 2s/step - loss: 0.2936 - accuracy: 0.8532 - val_loss: 0.2942 - val_accuracy: 0.8324\n",
      "Epoch 95/100\n",
      "16/16 [==============================] - 28s 2s/step - loss: 0.2961 - accuracy: 0.8536 - val_loss: 0.2924 - val_accuracy: 0.8628\n",
      "Epoch 96/100\n",
      "16/16 [==============================] - 28s 2s/step - loss: 0.2904 - accuracy: 0.8689 - val_loss: 0.2958 - val_accuracy: 0.8560\n",
      "Epoch 97/100\n",
      "16/16 [==============================] - 28s 2s/step - loss: 0.2973 - accuracy: 0.8569 - val_loss: 0.2927 - val_accuracy: 0.8688\n",
      "Epoch 98/100\n",
      "16/16 [==============================] - 28s 2s/step - loss: 0.3022 - accuracy: 0.8584 - val_loss: 0.3277 - val_accuracy: 0.7922\n",
      "Epoch 99/100\n",
      "16/16 [==============================] - 28s 2s/step - loss: 0.3227 - accuracy: 0.8049 - val_loss: 0.3113 - val_accuracy: 0.8344\n",
      "Epoch 100/100\n",
      "16/16 [==============================] - 28s 2s/step - loss: 0.3115 - accuracy: 0.8293 - val_loss: 0.3079 - val_accuracy: 0.8341\n"
     ]
    }
   ],
   "source": [
    "# training the model on training dataset\n",
    "history = lst.fit(x_train, y_train, epochs=100, batch_size=5000,validation_split=0.2)"
   ]
  },
  {
   "cell_type": "code",
   "execution_count": null,
   "metadata": {
    "id": "F7RKBuhZpM1s"
   },
   "outputs": [],
   "source": [
    "x_test = np.reshape(X_test, (X_test.shape[0],X_test.shape[1],1))"
   ]
  },
  {
   "cell_type": "code",
   "execution_count": null,
   "metadata": {
    "colab": {
     "base_uri": "https://localhost:8080/"
    },
    "id": "wEvPvD0N1BoA",
    "outputId": "6ee7d239-4426-466c-92b4-5855b5227099"
   },
   "outputs": [
    {
     "name": "stdout",
     "output_type": "stream",
     "text": [
      "Saved model to disk\n",
      "Loaded model from disk\n"
     ]
    }
   ],
   "source": [
    "filepath = './models/lst_binary.json'\n",
    "weightspath = './weights/lst_binary.h5'\n",
    "if (not path.isfile(filepath)):\n",
    "  # serialize model to JSON\n",
    "  lst_json = lst.to_json()\n",
    "  with open(filepath, \"w\") as json_file:\n",
    "    json_file.write(lst_json)\n",
    "\n",
    "  # serialize weights to HDF5\n",
    "  lst.save_weights(weightspath)\n",
    "  print(\"Saved model to disk\")\n",
    "\n",
    "  # load json and create model\n",
    "  json_file = open(filepath, 'r')\n",
    "  loaded_model_json = json_file.read()\n",
    "  json_file.close()\n",
    "  lst = model_from_json(loaded_model_json)\n",
    "\n",
    "  # load weights into new model\n",
    "  lst.load_weights(weightspath)\n",
    "  print(\"Loaded model from disk\")"
   ]
  },
  {
   "cell_type": "code",
   "execution_count": null,
   "metadata": {
    "id": "ElLuZrYc1PCC"
   },
   "outputs": [],
   "source": [
    "# defining loss function, optimizer, metrics and then compiling model\n",
    "lst.compile(loss='binary_crossentropy',optimizer='adam',metrics=['accuracy'])"
   ]
  },
  {
   "cell_type": "code",
   "execution_count": null,
   "metadata": {
    "colab": {
     "base_uri": "https://localhost:8080/"
    },
    "id": "h0x7huDdpA0q",
    "outputId": "8c0a8451-9056-454b-aec4-2f51f0adfcb5"
   },
   "outputs": [
    {
     "name": "stdout",
     "output_type": "stream",
     "text": [
      "985/985 [==============================] - 10s 10ms/step - loss: 0.3087 - accuracy: 0.8306\n",
      "Test results - Loss: 0.3086586892604828 - Accuracy: 83.05730819702148%\n"
     ]
    }
   ],
   "source": [
    "# predicting target attribute on testing dataset\n",
    "test_results = lst.evaluate(x_test, y_test, verbose=1)\n",
    "print(f'Test results - Loss: {test_results[0]} - Accuracy: {test_results[1]*100}%')"
   ]
  },
  {
   "cell_type": "code",
   "execution_count": null,
   "metadata": {
    "colab": {
     "base_uri": "https://localhost:8080/",
     "height": 295
    },
    "id": "pJfKAHM0Ndpv",
    "outputId": "da1a6431-632a-4f6a-ce17-f93123f7dad9"
   },
   "outputs": [
    {
     "data": {
      "image/png": "[encoded data removed]",
      "text/plain": [
       "<Figure size 432x288 with 1 Axes>"
      ]
     },
     "metadata": {
      "needs_background": "light",
      "tags": []
     },
     "output_type": "display_data"
    }
   ],
   "source": [
    "# Plot of accuracy vs epoch of train and test dataset\n",
    "plt.plot(history.history['accuracy'])\n",
    "plt.plot(history.history['val_accuracy'])\n",
    "plt.title(\"Plot of accuracy vs epoch for train and test dataset\")\n",
    "plt.ylabel('accuracy')\n",
    "plt.xlabel('epoch')\n",
    "plt.legend(['train', 'test'], loc='best')\n",
    "plt.savefig('plots/lstm_binary_accuracy.png')\n",
    "plt.show()"
   ]
  },
  {
   "cell_type": "code",
   "execution_count": null,
   "metadata": {
    "colab": {
     "base_uri": "https://localhost:8080/",
     "height": 295
    },
    "id": "kd0qPmceNdAr",
    "outputId": "98ecf942-e282-4d63-9d15-af43d4bff193"
   },
   "outputs": [
    {
     "data": {
      "image/png": "[encoded data removed]",
      "text/plain": [
       "<Figure size 432x288 with 1 Axes>"
      ]
     },
     "metadata": {
      "needs_background": "light",
      "tags": []
     },
     "output_type": "display_data"
    }
   ],
   "source": [
    "# Plot of loss vs epoch of train and test dataset\n",
    "plt.plot(history.history['loss'])\n",
    "plt.plot(history.history['val_loss'])\n",
    "plt.title(\"Plot of loss vs epoch for train and test dataset\")\n",
    "plt.ylabel('loss')\n",
    "plt.xlabel('epoch')\n",
    "plt.legend(['train', 'test'], loc='best')\n",
    "plt.savefig('plots/lstm_binary_loss.png')\n",
    "plt.show()"
   ]
  },
  {
   "cell_type": "code",
   "execution_count": null,
   "metadata": {
    "colab": {
     "base_uri": "https://localhost:8080/",
     "height": 312
    },
    "id": "RULmRxZ5zkkF",
    "outputId": "f8da3e6d-77d1-46ff-8808-aebc0a57c853"
   },
   "outputs": [
    {
     "data": {
      "image/png": "[encoded data removed]",
      "text/plain": [
       "<IPython.core.display.Image object>"
      ]
     },
     "execution_count": 152,
     "metadata": {
      "tags": []
     },
     "output_type": "execute_result"
    }
   ],
   "source": [
    "# representation of model layers\n",
    "plot_model(lst, to_file='plots/lstm_binary.png', show_shapes=True,)"
   ]
  },
  {
   "cell_type": "code",
   "execution_count": null,
   "metadata": {
    "id": "aLLK_7t_r1Ey"
   },
   "outputs": [],
   "source": []
  }
 ],
 "metadata": {
  "colab": {
   "collapsed_sections": [],
   "name": "Classifiers_NSL-KDD.ipynb",
   "provenance": [],
   "toc_visible": true
  },
  "kernelspec": {
   "display_name": "Python 3",
   "language": "python",
   "name": "python3"
  },
  "language_info": {
   "codemirror_mode": {
    "name": "ipython",
    "version": 3
   },
   "file_extension": ".py",
   "mimetype": "text/x-python",
   "name": "python",
   "nbconvert_exporter": "python",
   "pygments_lexer": "ipython3",
   "version": "3.8.8"
  }
 },
 "nbformat": 4,
 "nbformat_minor": 1
}
