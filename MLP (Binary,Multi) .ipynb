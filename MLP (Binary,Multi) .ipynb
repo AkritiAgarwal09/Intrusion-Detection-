{
 "cells": [
  {
   "cell_type": "code",
   "execution_count": 1,
   "metadata": {
    "id": "7MblIbMu31gO"
   },
   "outputs": [],
   "source": [
    "from sklearn.metrics import accuracy_score # for calculating accuracy of model\n",
    "from sklearn.model_selection import train_test_split # for splitting the dataset for training and testing\n",
    "from sklearn.metrics import classification_report # for generating a classification report of model\n",
    "import pickle # saving and loading trained model\n",
    "from os import path\n",
    "import numpy as np\n",
    "import pandas as pd\n",
    "import matplotlib.pyplot as plt"
   ]
  },
  {
   "cell_type": "code",
   "execution_count": 34,
   "metadata": {
    "id": "DriCvhiI4JTH"
   },
   "outputs": [],
   "source": [
    "bin_data = pd.read_csv('datasets/bin_data.csv')\n",
    "bin_data.drop(bin_data.columns[0],axis=1,inplace=True)\n",
    "multi_data = pd.read_csv('datasets/multi_data.csv')\n",
    "multi_data.drop(multi_data.columns[0],axis=1,inplace=True)\n",
    "le1_classes_ = np.load('labels/le1_classes.npy',allow_pickle=True)\n",
    "le2_classes_ = np.load('le2_classes.npy',allow_pickle=True)"
   ]
  },
  {
   "cell_type": "markdown",
   "metadata": {
    "id": "UcAd_oyaD4C6"
   },
   "source": [
    "# **Multi Layer Perceptron Classifier (Binary Classification)**"
   ]
  },
  {
   "cell_type": "code",
   "execution_count": null,
   "metadata": {
    "id": "MXZbJB9HESF4"
   },
   "outputs": [],
   "source": [
    "from keras.layers import Dense # importing dense layer\n",
    "from keras.models import Sequential #importing Sequential layer\n",
    "from keras.models import model_from_json # saving and loading trained model"
   ]
  },
  {
   "cell_type": "code",
   "execution_count": null,
   "metadata": {
    "id": "Imkkjtu_Fnzr"
   },
   "outputs": [],
   "source": [
    "X = bin_data.iloc[:,0:93].values # dataset excluding target attribute (encoded, one-hot-encoded,original)\n",
    "Y = bin_data[['intrusion']].values # target attribute"
   ]
  },
  {
   "cell_type": "code",
   "execution_count": null,
   "metadata": {
    "id": "gNx0tOV7FwfO"
   },
   "outputs": [],
   "source": [
    "# splitting the dataset 75% for training and 25% testing\n",
    "X_train, X_test, y_train, y_test = train_test_split(X,Y, test_size=0.25, random_state=42)"
   ]
  },
  {
   "cell_type": "code",
   "execution_count": null,
   "metadata": {
    "id": "9-5ChLnLEVqn"
   },
   "outputs": [],
   "source": [
    "mlp = Sequential() # creating model\n",
    "\n",
    "# adding input layer and first layer with 50 neurons\n",
    "mlp.add(Dense(units=50, input_dim=X_train.shape[1], activation='relu'))\n",
    "# output layer with sigmoid activation\n",
    "mlp.add(Dense(units=1,activation='sigmoid'))"
   ]
  },
  {
   "cell_type": "code",
   "execution_count": null,
   "metadata": {
    "id": "9ttL9NnuEsvL"
   },
   "outputs": [],
   "source": [
    "# defining loss function, optimizer, metrics and then compiling model\n",
    "mlp.compile(loss='binary_crossentropy', optimizer='adam', metrics=['accuracy'])"
   ]
  },
  {
   "cell_type": "code",
   "execution_count": null,
   "metadata": {
    "colab": {
     "base_uri": "https://localhost:8080/"
    },
    "id": "GBlm3w0EzM24",
    "outputId": "1cce1b08-2d2a-4b13-d5f1-eecf9733a618"
   },
   "outputs": [
    {
     "name": "stdout",
     "output_type": "stream",
     "text": [
      "Model: \"sequential_2\"\n",
      "_________________________________________________________________\n",
      "Layer (type)                 Output Shape              Param #   \n",
      "=================================================================\n",
      "dense_2 (Dense)              (None, 50)                4700      \n",
      "_________________________________________________________________\n",
      "dense_3 (Dense)              (None, 1)                 51        \n",
      "=================================================================\n",
      "Total params: 4,751\n",
      "Trainable params: 4,751\n",
      "Non-trainable params: 0\n",
      "_________________________________________________________________\n"
     ]
    }
   ],
   "source": [
    "# summary of model layers\n",
    "mlp.summary()"
   ]
  },
  {
   "cell_type": "code",
   "execution_count": null,
   "metadata": {
    "colab": {
     "base_uri": "https://localhost:8080/"
    },
    "id": "TeIHduwLEzec",
    "outputId": "5dcbc619-340b-42af-9357-6d6ad88f930f"
   },
   "outputs": [
    {
     "name": "stdout",
     "output_type": "stream",
     "text": [
      "Epoch 1/100\n",
      "16/16 [==============================] - 1s 19ms/step - loss: 0.6427 - accuracy: 0.6652 - val_loss: 0.4590 - val_accuracy: 0.8974\n",
      "Epoch 2/100\n",
      "16/16 [==============================] - 0s 9ms/step - loss: 0.4233 - accuracy: 0.8973 - val_loss: 0.3334 - val_accuracy: 0.9024\n",
      "Epoch 3/100\n",
      "16/16 [==============================] - 0s 9ms/step - loss: 0.3165 - accuracy: 0.9029 - val_loss: 0.2670 - val_accuracy: 0.9091\n",
      "Epoch 4/100\n",
      "16/16 [==============================] - 0s 9ms/step - loss: 0.2555 - accuracy: 0.9107 - val_loss: 0.2280 - val_accuracy: 0.9184\n",
      "Epoch 5/100\n",
      "16/16 [==============================] - 0s 10ms/step - loss: 0.2195 - accuracy: 0.9179 - val_loss: 0.2013 - val_accuracy: 0.9245\n",
      "Epoch 6/100\n",
      "16/16 [==============================] - 0s 11ms/step - loss: 0.1969 - accuracy: 0.9232 - val_loss: 0.1809 - val_accuracy: 0.9308\n",
      "Epoch 7/100\n",
      "16/16 [==============================] - 0s 9ms/step - loss: 0.1743 - accuracy: 0.9358 - val_loss: 0.1649 - val_accuracy: 0.9518\n",
      "Epoch 8/100\n",
      "16/16 [==============================] - 0s 9ms/step - loss: 0.1603 - accuracy: 0.9523 - val_loss: 0.1524 - val_accuracy: 0.9589\n",
      "Epoch 9/100\n",
      "16/16 [==============================] - 0s 9ms/step - loss: 0.1484 - accuracy: 0.9598 - val_loss: 0.1425 - val_accuracy: 0.9636\n",
      "Epoch 10/100\n",
      "16/16 [==============================] - 0s 9ms/step - loss: 0.1403 - accuracy: 0.9631 - val_loss: 0.1346 - val_accuracy: 0.9669\n",
      "Epoch 11/100\n",
      "16/16 [==============================] - 0s 9ms/step - loss: 0.1302 - accuracy: 0.9677 - val_loss: 0.1281 - val_accuracy: 0.9686\n",
      "Epoch 12/100\n",
      "16/16 [==============================] - 0s 9ms/step - loss: 0.1235 - accuracy: 0.9691 - val_loss: 0.1229 - val_accuracy: 0.9687\n",
      "Epoch 13/100\n",
      "16/16 [==============================] - 0s 9ms/step - loss: 0.1190 - accuracy: 0.9691 - val_loss: 0.1185 - val_accuracy: 0.9693\n",
      "Epoch 14/100\n",
      "16/16 [==============================] - 0s 9ms/step - loss: 0.1150 - accuracy: 0.9692 - val_loss: 0.1147 - val_accuracy: 0.9695\n",
      "Epoch 15/100\n",
      "16/16 [==============================] - 0s 10ms/step - loss: 0.1110 - accuracy: 0.9701 - val_loss: 0.1114 - val_accuracy: 0.9696\n",
      "Epoch 16/100\n",
      "16/16 [==============================] - 0s 9ms/step - loss: 0.1083 - accuracy: 0.9700 - val_loss: 0.1084 - val_accuracy: 0.9697\n",
      "Epoch 17/100\n",
      "16/16 [==============================] - 0s 9ms/step - loss: 0.1073 - accuracy: 0.9693 - val_loss: 0.1059 - val_accuracy: 0.9700\n",
      "Epoch 18/100\n",
      "16/16 [==============================] - 0s 10ms/step - loss: 0.1035 - accuracy: 0.9703 - val_loss: 0.1035 - val_accuracy: 0.9702\n",
      "Epoch 19/100\n",
      "16/16 [==============================] - 0s 9ms/step - loss: 0.0985 - accuracy: 0.9716 - val_loss: 0.1014 - val_accuracy: 0.9702\n",
      "Epoch 20/100\n",
      "16/16 [==============================] - 0s 9ms/step - loss: 0.0997 - accuracy: 0.9700 - val_loss: 0.0994 - val_accuracy: 0.9703\n",
      "Epoch 21/100\n",
      "16/16 [==============================] - 0s 9ms/step - loss: 0.0968 - accuracy: 0.9710 - val_loss: 0.0975 - val_accuracy: 0.9702\n",
      "Epoch 22/100\n",
      "16/16 [==============================] - 0s 10ms/step - loss: 0.0960 - accuracy: 0.9703 - val_loss: 0.0958 - val_accuracy: 0.9702\n",
      "Epoch 23/100\n",
      "16/16 [==============================] - 0s 9ms/step - loss: 0.0931 - accuracy: 0.9711 - val_loss: 0.0943 - val_accuracy: 0.9702\n",
      "Epoch 24/100\n",
      "16/16 [==============================] - 0s 8ms/step - loss: 0.0910 - accuracy: 0.9712 - val_loss: 0.0928 - val_accuracy: 0.9704\n",
      "Epoch 25/100\n",
      "16/16 [==============================] - 0s 9ms/step - loss: 0.0886 - accuracy: 0.9720 - val_loss: 0.0914 - val_accuracy: 0.9706\n",
      "Epoch 26/100\n",
      "16/16 [==============================] - 0s 8ms/step - loss: 0.0895 - accuracy: 0.9710 - val_loss: 0.0901 - val_accuracy: 0.9704\n",
      "Epoch 27/100\n",
      "16/16 [==============================] - 0s 9ms/step - loss: 0.0882 - accuracy: 0.9713 - val_loss: 0.0889 - val_accuracy: 0.9706\n",
      "Epoch 28/100\n",
      "16/16 [==============================] - 0s 8ms/step - loss: 0.0847 - accuracy: 0.9723 - val_loss: 0.0878 - val_accuracy: 0.9706\n",
      "Epoch 29/100\n",
      "16/16 [==============================] - 0s 9ms/step - loss: 0.0849 - accuracy: 0.9714 - val_loss: 0.0868 - val_accuracy: 0.9706\n",
      "Epoch 30/100\n",
      "16/16 [==============================] - 0s 9ms/step - loss: 0.0854 - accuracy: 0.9714 - val_loss: 0.0858 - val_accuracy: 0.9709\n",
      "Epoch 31/100\n",
      "16/16 [==============================] - 0s 9ms/step - loss: 0.0834 - accuracy: 0.9721 - val_loss: 0.0849 - val_accuracy: 0.9709\n",
      "Epoch 32/100\n",
      "16/16 [==============================] - 0s 10ms/step - loss: 0.0809 - accuracy: 0.9726 - val_loss: 0.0840 - val_accuracy: 0.9706\n",
      "Epoch 33/100\n",
      "16/16 [==============================] - 0s 9ms/step - loss: 0.0814 - accuracy: 0.9723 - val_loss: 0.0832 - val_accuracy: 0.9706\n",
      "Epoch 34/100\n",
      "16/16 [==============================] - 0s 9ms/step - loss: 0.0806 - accuracy: 0.9728 - val_loss: 0.0825 - val_accuracy: 0.9707\n",
      "Epoch 35/100\n",
      "16/16 [==============================] - 0s 8ms/step - loss: 0.0821 - accuracy: 0.9716 - val_loss: 0.0819 - val_accuracy: 0.9705\n",
      "Epoch 36/100\n",
      "16/16 [==============================] - 0s 9ms/step - loss: 0.0785 - accuracy: 0.9728 - val_loss: 0.0812 - val_accuracy: 0.9705\n",
      "Epoch 37/100\n",
      "16/16 [==============================] - 0s 9ms/step - loss: 0.0798 - accuracy: 0.9719 - val_loss: 0.0805 - val_accuracy: 0.9705\n",
      "Epoch 38/100\n",
      "16/16 [==============================] - 0s 9ms/step - loss: 0.0774 - accuracy: 0.9725 - val_loss: 0.0800 - val_accuracy: 0.9705\n",
      "Epoch 39/100\n",
      "16/16 [==============================] - 0s 10ms/step - loss: 0.0760 - accuracy: 0.9733 - val_loss: 0.0794 - val_accuracy: 0.9705\n",
      "Epoch 40/100\n",
      "16/16 [==============================] - 0s 9ms/step - loss: 0.0773 - accuracy: 0.9727 - val_loss: 0.0789 - val_accuracy: 0.9705\n",
      "Epoch 41/100\n",
      "16/16 [==============================] - 0s 9ms/step - loss: 0.0756 - accuracy: 0.9728 - val_loss: 0.0784 - val_accuracy: 0.9706\n",
      "Epoch 42/100\n",
      "16/16 [==============================] - 0s 9ms/step - loss: 0.0778 - accuracy: 0.9721 - val_loss: 0.0780 - val_accuracy: 0.9707\n",
      "Epoch 43/100\n",
      "16/16 [==============================] - 0s 9ms/step - loss: 0.0741 - accuracy: 0.9734 - val_loss: 0.0775 - val_accuracy: 0.9706\n",
      "Epoch 44/100\n",
      "16/16 [==============================] - 0s 9ms/step - loss: 0.0761 - accuracy: 0.9727 - val_loss: 0.0772 - val_accuracy: 0.9713\n",
      "Epoch 45/100\n",
      "16/16 [==============================] - 0s 10ms/step - loss: 0.0734 - accuracy: 0.9740 - val_loss: 0.0767 - val_accuracy: 0.9716\n",
      "Epoch 46/100\n",
      "16/16 [==============================] - 0s 9ms/step - loss: 0.0744 - accuracy: 0.9738 - val_loss: 0.0763 - val_accuracy: 0.9719\n",
      "Epoch 47/100\n",
      "16/16 [==============================] - 0s 9ms/step - loss: 0.0733 - accuracy: 0.9739 - val_loss: 0.0760 - val_accuracy: 0.9723\n",
      "Epoch 48/100\n",
      "16/16 [==============================] - 0s 9ms/step - loss: 0.0740 - accuracy: 0.9743 - val_loss: 0.0756 - val_accuracy: 0.9727\n",
      "Epoch 49/100\n",
      "16/16 [==============================] - 0s 9ms/step - loss: 0.0738 - accuracy: 0.9740 - val_loss: 0.0753 - val_accuracy: 0.9727\n",
      "Epoch 50/100\n",
      "16/16 [==============================] - 0s 9ms/step - loss: 0.0720 - accuracy: 0.9749 - val_loss: 0.0750 - val_accuracy: 0.9727\n",
      "Epoch 51/100\n",
      "16/16 [==============================] - 0s 9ms/step - loss: 0.0716 - accuracy: 0.9749 - val_loss: 0.0747 - val_accuracy: 0.9731\n",
      "Epoch 52/100\n",
      "16/16 [==============================] - 0s 9ms/step - loss: 0.0721 - accuracy: 0.9749 - val_loss: 0.0744 - val_accuracy: 0.9732\n",
      "Epoch 53/100\n",
      "16/16 [==============================] - 0s 8ms/step - loss: 0.0729 - accuracy: 0.9747 - val_loss: 0.0741 - val_accuracy: 0.9733\n",
      "Epoch 54/100\n",
      "16/16 [==============================] - 0s 9ms/step - loss: 0.0706 - accuracy: 0.9756 - val_loss: 0.0738 - val_accuracy: 0.9734\n",
      "Epoch 55/100\n",
      "16/16 [==============================] - 0s 10ms/step - loss: 0.0712 - accuracy: 0.9754 - val_loss: 0.0735 - val_accuracy: 0.9739\n",
      "Epoch 56/100\n",
      "16/16 [==============================] - 0s 9ms/step - loss: 0.0716 - accuracy: 0.9754 - val_loss: 0.0733 - val_accuracy: 0.9740\n",
      "Epoch 57/100\n",
      "16/16 [==============================] - 0s 9ms/step - loss: 0.0708 - accuracy: 0.9760 - val_loss: 0.0730 - val_accuracy: 0.9740\n",
      "Epoch 58/100\n",
      "16/16 [==============================] - 0s 9ms/step - loss: 0.0703 - accuracy: 0.9761 - val_loss: 0.0727 - val_accuracy: 0.9741\n",
      "Epoch 59/100\n",
      "16/16 [==============================] - 0s 10ms/step - loss: 0.0691 - accuracy: 0.9766 - val_loss: 0.0724 - val_accuracy: 0.9741\n",
      "Epoch 60/100\n",
      "16/16 [==============================] - 0s 9ms/step - loss: 0.0703 - accuracy: 0.9765 - val_loss: 0.0723 - val_accuracy: 0.9742\n",
      "Epoch 61/100\n",
      "16/16 [==============================] - 0s 9ms/step - loss: 0.0703 - accuracy: 0.9760 - val_loss: 0.0720 - val_accuracy: 0.9745\n",
      "Epoch 62/100\n",
      "16/16 [==============================] - 0s 9ms/step - loss: 0.0689 - accuracy: 0.9768 - val_loss: 0.0717 - val_accuracy: 0.9746\n",
      "Epoch 63/100\n",
      "16/16 [==============================] - 0s 10ms/step - loss: 0.0699 - accuracy: 0.9770 - val_loss: 0.0715 - val_accuracy: 0.9749\n",
      "Epoch 64/100\n",
      "16/16 [==============================] - 0s 9ms/step - loss: 0.0696 - accuracy: 0.9767 - val_loss: 0.0713 - val_accuracy: 0.9749\n",
      "Epoch 65/100\n",
      "16/16 [==============================] - 0s 9ms/step - loss: 0.0697 - accuracy: 0.9764 - val_loss: 0.0712 - val_accuracy: 0.9749\n",
      "Epoch 66/100\n",
      "16/16 [==============================] - 0s 11ms/step - loss: 0.0696 - accuracy: 0.9767 - val_loss: 0.0710 - val_accuracy: 0.9749\n",
      "Epoch 67/100\n",
      "16/16 [==============================] - 0s 9ms/step - loss: 0.0688 - accuracy: 0.9773 - val_loss: 0.0708 - val_accuracy: 0.9754\n",
      "Epoch 68/100\n",
      "16/16 [==============================] - 0s 9ms/step - loss: 0.0697 - accuracy: 0.9768 - val_loss: 0.0706 - val_accuracy: 0.9752\n",
      "Epoch 69/100\n",
      "16/16 [==============================] - 0s 9ms/step - loss: 0.0688 - accuracy: 0.9772 - val_loss: 0.0705 - val_accuracy: 0.9753\n",
      "Epoch 70/100\n",
      "16/16 [==============================] - 0s 9ms/step - loss: 0.0683 - accuracy: 0.9767 - val_loss: 0.0703 - val_accuracy: 0.9754\n",
      "Epoch 71/100\n",
      "16/16 [==============================] - 0s 9ms/step - loss: 0.0673 - accuracy: 0.9775 - val_loss: 0.0702 - val_accuracy: 0.9753\n",
      "Epoch 72/100\n",
      "16/16 [==============================] - 0s 9ms/step - loss: 0.0677 - accuracy: 0.9774 - val_loss: 0.0700 - val_accuracy: 0.9753\n",
      "Epoch 73/100\n",
      "16/16 [==============================] - 0s 9ms/step - loss: 0.0677 - accuracy: 0.9775 - val_loss: 0.0698 - val_accuracy: 0.9754\n",
      "Epoch 74/100\n",
      "16/16 [==============================] - 0s 9ms/step - loss: 0.0667 - accuracy: 0.9774 - val_loss: 0.0696 - val_accuracy: 0.9756\n",
      "Epoch 75/100\n",
      "16/16 [==============================] - 0s 9ms/step - loss: 0.0669 - accuracy: 0.9774 - val_loss: 0.0695 - val_accuracy: 0.9756\n",
      "Epoch 76/100\n",
      "16/16 [==============================] - 0s 11ms/step - loss: 0.0678 - accuracy: 0.9770 - val_loss: 0.0694 - val_accuracy: 0.9754\n",
      "Epoch 77/100\n",
      "16/16 [==============================] - 0s 10ms/step - loss: 0.0675 - accuracy: 0.9775 - val_loss: 0.0692 - val_accuracy: 0.9757\n",
      "Epoch 78/100\n",
      "16/16 [==============================] - 0s 9ms/step - loss: 0.0654 - accuracy: 0.9787 - val_loss: 0.0691 - val_accuracy: 0.9759\n",
      "Epoch 79/100\n",
      "16/16 [==============================] - 0s 9ms/step - loss: 0.0657 - accuracy: 0.9776 - val_loss: 0.0690 - val_accuracy: 0.9756\n",
      "Epoch 80/100\n",
      "16/16 [==============================] - 0s 9ms/step - loss: 0.0670 - accuracy: 0.9774 - val_loss: 0.0688 - val_accuracy: 0.9758\n",
      "Epoch 81/100\n",
      "16/16 [==============================] - 0s 9ms/step - loss: 0.0665 - accuracy: 0.9782 - val_loss: 0.0687 - val_accuracy: 0.9757\n",
      "Epoch 82/100\n",
      "16/16 [==============================] - 0s 10ms/step - loss: 0.0686 - accuracy: 0.9768 - val_loss: 0.0687 - val_accuracy: 0.9759\n",
      "Epoch 83/100\n",
      "16/16 [==============================] - 0s 10ms/step - loss: 0.0641 - accuracy: 0.9785 - val_loss: 0.0686 - val_accuracy: 0.9758\n",
      "Epoch 84/100\n",
      "16/16 [==============================] - 0s 9ms/step - loss: 0.0656 - accuracy: 0.9783 - val_loss: 0.0684 - val_accuracy: 0.9758\n",
      "Epoch 85/100\n",
      "16/16 [==============================] - 0s 9ms/step - loss: 0.0669 - accuracy: 0.9777 - val_loss: 0.0683 - val_accuracy: 0.9760\n",
      "Epoch 86/100\n",
      "16/16 [==============================] - 0s 9ms/step - loss: 0.0643 - accuracy: 0.9784 - val_loss: 0.0682 - val_accuracy: 0.9758\n",
      "Epoch 87/100\n",
      "16/16 [==============================] - 0s 9ms/step - loss: 0.0666 - accuracy: 0.9775 - val_loss: 0.0681 - val_accuracy: 0.9759\n",
      "Epoch 88/100\n",
      "16/16 [==============================] - 0s 9ms/step - loss: 0.0664 - accuracy: 0.9781 - val_loss: 0.0680 - val_accuracy: 0.9760\n",
      "Epoch 89/100\n",
      "16/16 [==============================] - 0s 10ms/step - loss: 0.0651 - accuracy: 0.9780 - val_loss: 0.0678 - val_accuracy: 0.9759\n",
      "Epoch 90/100\n",
      "16/16 [==============================] - 0s 9ms/step - loss: 0.0651 - accuracy: 0.9785 - val_loss: 0.0677 - val_accuracy: 0.9758\n",
      "Epoch 91/100\n",
      "16/16 [==============================] - 0s 9ms/step - loss: 0.0654 - accuracy: 0.9779 - val_loss: 0.0676 - val_accuracy: 0.9759\n",
      "Epoch 92/100\n",
      "16/16 [==============================] - 0s 11ms/step - loss: 0.0664 - accuracy: 0.9776 - val_loss: 0.0675 - val_accuracy: 0.9758\n",
      "Epoch 93/100\n",
      "16/16 [==============================] - 0s 9ms/step - loss: 0.0641 - accuracy: 0.9789 - val_loss: 0.0674 - val_accuracy: 0.9758\n",
      "Epoch 94/100\n",
      "16/16 [==============================] - 0s 9ms/step - loss: 0.0654 - accuracy: 0.9784 - val_loss: 0.0673 - val_accuracy: 0.9758\n",
      "Epoch 95/100\n",
      "16/16 [==============================] - 0s 9ms/step - loss: 0.0653 - accuracy: 0.9783 - val_loss: 0.0672 - val_accuracy: 0.9759\n",
      "Epoch 96/100\n",
      "16/16 [==============================] - 0s 9ms/step - loss: 0.0640 - accuracy: 0.9787 - val_loss: 0.0671 - val_accuracy: 0.9759\n",
      "Epoch 97/100\n",
      "16/16 [==============================] - 0s 9ms/step - loss: 0.0635 - accuracy: 0.9786 - val_loss: 0.0670 - val_accuracy: 0.9759\n",
      "Epoch 98/100\n",
      "16/16 [==============================] - 0s 9ms/step - loss: 0.0622 - accuracy: 0.9788 - val_loss: 0.0670 - val_accuracy: 0.9760\n",
      "Epoch 99/100\n",
      "16/16 [==============================] - 0s 9ms/step - loss: 0.0646 - accuracy: 0.9782 - val_loss: 0.0668 - val_accuracy: 0.9762\n",
      "Epoch 100/100\n",
      "16/16 [==============================] - 0s 10ms/step - loss: 0.0638 - accuracy: 0.9785 - val_loss: 0.0667 - val_accuracy: 0.9761\n"
     ]
    }
   ],
   "source": [
    "# training the model on training dataset\n",
    "history = mlp.fit(X_train, y_train, epochs=100, batch_size=5000,validation_split=0.2)"
   ]
  },
  {
   "cell_type": "code",
   "execution_count": null,
   "metadata": {
    "colab": {
     "base_uri": "https://localhost:8080/"
    },
    "id": "Nn4cYSDKx1-o",
    "outputId": "dfdbefc7-758e-4837-9371-ad18e8408a18"
   },
   "outputs": [
    {
     "name": "stdout",
     "output_type": "stream",
     "text": [
      "Saved model to disk\n",
      "Loaded model from disk\n"
     ]
    }
   ],
   "source": [
    "filepath = './models/mlp_binary.json'\n",
    "weightspath = './weights/mlp_binary.h5'\n",
    "if (not path.isfile(filepath)):\n",
    "  # serialize model to JSON\n",
    "  mlp_json = mlp.to_json()\n",
    "  with open(filepath, \"w\") as json_file:\n",
    "    json_file.write(mlp_json)\n",
    "\n",
    "  # serialize weights to HDF5\n",
    "  mlp.save_weights(weightspath)\n",
    "  print(\"Saved model to disk\")\n",
    "\n",
    "  # load json and create model\n",
    "  json_file = open(filepath, 'r')\n",
    "  loaded_model_json = json_file.read()\n",
    "  json_file.close()\n",
    "  mlp = model_from_json(loaded_model_json)\n",
    "\n",
    "  # load weights into new model\n",
    "  mlp.load_weights(weightspath)\n",
    "  print(\"Loaded model from disk\")"
   ]
  },
  {
   "cell_type": "code",
   "execution_count": null,
   "metadata": {
    "id": "HRCboXxT04NZ"
   },
   "outputs": [],
   "source": [
    "# defining loss function, optimizer, metrics and then compiling model\n",
    "mlp.compile(loss='binary_crossentropy', optimizer='adam', metrics=['accuracy'])"
   ]
  },
  {
   "cell_type": "code",
   "execution_count": null,
   "metadata": {
    "colab": {
     "base_uri": "https://localhost:8080/"
    },
    "id": "XYkgc0V6E2Cy",
    "outputId": "7b2d37c6-95c3-45e4-fc8e-9ff0ed63faea"
   },
   "outputs": [
    {
     "name": "stdout",
     "output_type": "stream",
     "text": [
      "985/985 [==============================] - 1s 950us/step - loss: 0.0682 - accuracy: 0.9771\n",
      "Test results - Loss: 0.06512267887592316 - Accuracy: 97.79958128929138\n"
     ]
    }
   ],
   "source": [
    "# predicting target attribute on testing dataset\n",
    "test_results = mlp.evaluate(X_test, y_test, verbose=1)\n",
    "print(f'Test results - Loss: {test_results[0]} - Accuracy: {test_results[1]*100}')"
   ]
  },
  {
   "cell_type": "code",
   "execution_count": null,
   "metadata": {
    "colab": {
     "base_uri": "https://localhost:8080/",
     "height": 295
    },
    "id": "8t6-ytIJE7th",
    "outputId": "9a8c68d0-8e6f-4a6c-c2a7-381cfcad4f85"
   },
   "outputs": [
    {
     "data": {
      "image/png": "[encoded data removed]",
      "text/plain": [
       "<Figure size 432x288 with 1 Axes>"
      ]
     },
     "metadata": {
      "needs_background": "light",
      "tags": []
     },
     "output_type": "display_data"
    }
   ],
   "source": [
    "# Plot of accuracy vs epoch of train and test dataset\n",
    "plt.plot(history.history['accuracy'])\n",
    "plt.plot(history.history['val_accuracy'])\n",
    "plt.title(\"Plot of accuracy vs epoch for train and test dataset\")\n",
    "plt.ylabel('accuracy')\n",
    "plt.xlabel('epoch')\n",
    "plt.legend(['train', 'test'], loc='best')\n",
    "plt.savefig('plots/mlp_binary_accuracy.png')\n",
    "plt.show()"
   ]
  },
  {
   "cell_type": "code",
   "execution_count": null,
   "metadata": {
    "colab": {
     "base_uri": "https://localhost:8080/",
     "height": 295
    },
    "id": "hun0u-pxE_q1",
    "outputId": "7d09e9d0-d89c-4413-bda3-1c37d71cb83f"
   },
   "outputs": [
    {
     "data": {
      "image/png": "[encoded data removed]",
      "text/plain": [
       "<Figure size 432x288 with 1 Axes>"
      ]
     },
     "metadata": {
      "needs_background": "light",
      "tags": []
     },
     "output_type": "display_data"
    }
   ],
   "source": [
    "# Plot of loss vs epoch of train and test dataset\n",
    "plt.plot(history.history['loss'])\n",
    "plt.plot(history.history['val_loss'])\n",
    "plt.title('Plot of loss vs epoch for train and test dataset')\n",
    "plt.ylabel('loss')\n",
    "plt.xlabel('epoch')\n",
    "plt.legend(['train', 'test'], loc='best')\n",
    "plt.savefig('plots/mlp_binary_loss.png')\n",
    "plt.show()"
   ]
  },
  {
   "cell_type": "code",
   "execution_count": null,
   "metadata": {
    "colab": {
     "base_uri": "https://localhost:8080/",
     "height": 312
    },
    "id": "BFiX0p1dy4BB",
    "outputId": "96fe5d29-dc47-4ae7-ffaa-001fa9b932fe"
   },
   "outputs": [
    {
     "data": {
      "image/png": "[encoded data removed]",
      "text/plain": [
       "<IPython.core.display.Image object>"
      ]
     },
     "execution_count": 151,
     "metadata": {
      "tags": []
     },
     "output_type": "execute_result"
    }
   ],
   "source": [
    "# representation of model layers\n",
    "from keras.utils import plot_model\n",
    "plot_model(mlp, to_file='plots/mlp_binary.png', show_shapes=True,)"
   ]
  },
  {
   "cell_type": "markdown",
   "metadata": {
    "id": "K5hU_51LKW-d"
   },
   "source": [
    "# **Multi Layer Perceptron Classifier (Multi-class Classification)**"
   ]
  },
  {
   "cell_type": "code",
   "execution_count": null,
   "metadata": {
    "id": "9373ZC6VKX5G"
   },
   "outputs": [],
   "source": [
    "X = multi_data.iloc[:,0:93]  # dataset excluding target attribute (encoded, one-hot-encoded,original)\n",
    "Y = multi_data[['Dos','normal','Probe','R2L','U2R']] # target attributes"
   ]
  },
  {
   "cell_type": "code",
   "execution_count": null,
   "metadata": {
    "id": "RfpZr6lyK3UG"
   },
   "outputs": [],
   "source": [
    "# splitting the dataset 75% for training and 25% testing\n",
    "X_train, X_test, y_train, y_test = train_test_split(X,Y, test_size=0.25, random_state=42)"
   ]
  },
  {
   "cell_type": "code",
   "execution_count": null,
   "metadata": {
    "id": "nlc90vl7LXqy"
   },
   "outputs": [],
   "source": [
    "mlp = Sequential() # initializing model\n",
    "# input layer and first layer with 50 neurons\n",
    "mlp.add(Dense(units=50, input_dim=X_train.shape[1], activation='relu'))\n",
    "# output layer with softmax activation\n",
    "mlp.add(Dense(units=5,activation='softmax'))"
   ]
  },
  {
   "cell_type": "code",
   "execution_count": null,
   "metadata": {
    "id": "sbjgI4YkLYFs"
   },
   "outputs": [],
   "source": [
    "# defining loss function, optimizer, metrics and then compiling model\n",
    "mlp.compile(loss='categorical_crossentropy', optimizer='adam', metrics=['accuracy'])"
   ]
  },
  {
   "cell_type": "code",
   "execution_count": null,
   "metadata": {
    "colab": {
     "base_uri": "https://localhost:8080/"
    },
    "id": "CAD9iBng6_bM",
    "outputId": "f2d021e7-6b23-4094-9f5a-215527ae4378"
   },
   "outputs": [
    {
     "name": "stdout",
     "output_type": "stream",
     "text": [
      "Model: \"sequential_3\"\n",
      "_________________________________________________________________\n",
      "Layer (type)                 Output Shape              Param #   \n",
      "=================================================================\n",
      "dense_6 (Dense)              (None, 50)                4700      \n",
      "_________________________________________________________________\n",
      "dense_7 (Dense)              (None, 5)                 255       \n",
      "=================================================================\n",
      "Total params: 4,955\n",
      "Trainable params: 4,955\n",
      "Non-trainable params: 0\n",
      "_________________________________________________________________\n"
     ]
    }
   ],
   "source": [
    "# summary of model layers\n",
    "mlp.summary()"
   ]
  },
  {
   "cell_type": "code",
   "execution_count": null,
   "metadata": {
    "colab": {
     "base_uri": "https://localhost:8080/"
    },
    "id": "0iR4f7BwLb9b",
    "outputId": "78fae018-4665-4187-d1d6-25f593660cb3"
   },
   "outputs": [
    {
     "name": "stdout",
     "output_type": "stream",
     "text": [
      "Epoch 1/100\n",
      "16/16 [==============================] - 1s 33ms/step - loss: 1.6282 - accuracy: 0.2066 - val_loss: 1.2330 - val_accuracy: 0.5749\n",
      "Epoch 2/100\n",
      "16/16 [==============================] - 0s 13ms/step - loss: 1.1306 - accuracy: 0.6717 - val_loss: 0.8474 - val_accuracy: 0.8593\n",
      "Epoch 3/100\n",
      "16/16 [==============================] - 0s 13ms/step - loss: 0.7775 - accuracy: 0.8580 - val_loss: 0.5909 - val_accuracy: 0.8665\n",
      "Epoch 4/100\n",
      "16/16 [==============================] - 0s 14ms/step - loss: 0.5489 - accuracy: 0.8655 - val_loss: 0.4435 - val_accuracy: 0.8720\n",
      "Epoch 5/100\n",
      "16/16 [==============================] - 0s 13ms/step - loss: 0.4206 - accuracy: 0.8718 - val_loss: 0.3650 - val_accuracy: 0.8760\n",
      "Epoch 6/100\n",
      "16/16 [==============================] - 0s 13ms/step - loss: 0.3533 - accuracy: 0.8797 - val_loss: 0.3201 - val_accuracy: 0.9093\n",
      "Epoch 7/100\n",
      "16/16 [==============================] - 0s 13ms/step - loss: 0.3122 - accuracy: 0.9118 - val_loss: 0.2901 - val_accuracy: 0.9267\n",
      "Epoch 8/100\n",
      "16/16 [==============================] - 0s 13ms/step - loss: 0.2817 - accuracy: 0.9273 - val_loss: 0.2679 - val_accuracy: 0.9336\n",
      "Epoch 9/100\n",
      "16/16 [==============================] - 0s 13ms/step - loss: 0.2593 - accuracy: 0.9333 - val_loss: 0.2501 - val_accuracy: 0.9363\n",
      "Epoch 10/100\n",
      "16/16 [==============================] - 0s 13ms/step - loss: 0.2423 - accuracy: 0.9365 - val_loss: 0.2353 - val_accuracy: 0.9390\n",
      "Epoch 11/100\n",
      "16/16 [==============================] - 0s 13ms/step - loss: 0.2296 - accuracy: 0.9382 - val_loss: 0.2224 - val_accuracy: 0.9410\n",
      "Epoch 12/100\n",
      "16/16 [==============================] - 0s 12ms/step - loss: 0.2155 - accuracy: 0.9433 - val_loss: 0.2113 - val_accuracy: 0.9457\n",
      "Epoch 13/100\n",
      "16/16 [==============================] - 0s 13ms/step - loss: 0.2038 - accuracy: 0.9471 - val_loss: 0.2018 - val_accuracy: 0.9468\n",
      "Epoch 14/100\n",
      "16/16 [==============================] - 0s 13ms/step - loss: 0.1955 - accuracy: 0.9478 - val_loss: 0.1932 - val_accuracy: 0.9476\n",
      "Epoch 15/100\n",
      "16/16 [==============================] - 0s 12ms/step - loss: 0.1891 - accuracy: 0.9489 - val_loss: 0.1857 - val_accuracy: 0.9499\n",
      "Epoch 16/100\n",
      "16/16 [==============================] - 0s 13ms/step - loss: 0.1827 - accuracy: 0.9499 - val_loss: 0.1791 - val_accuracy: 0.9501\n",
      "Epoch 17/100\n",
      "16/16 [==============================] - 0s 12ms/step - loss: 0.1730 - accuracy: 0.9512 - val_loss: 0.1734 - val_accuracy: 0.9509\n",
      "Epoch 18/100\n",
      "16/16 [==============================] - 0s 14ms/step - loss: 0.1691 - accuracy: 0.9509 - val_loss: 0.1683 - val_accuracy: 0.9510\n",
      "Epoch 19/100\n",
      "16/16 [==============================] - 0s 13ms/step - loss: 0.1633 - accuracy: 0.9520 - val_loss: 0.1637 - val_accuracy: 0.9511\n",
      "Epoch 20/100\n",
      "16/16 [==============================] - 0s 12ms/step - loss: 0.1602 - accuracy: 0.9515 - val_loss: 0.1595 - val_accuracy: 0.9515\n",
      "Epoch 21/100\n",
      "16/16 [==============================] - 0s 13ms/step - loss: 0.1553 - accuracy: 0.9521 - val_loss: 0.1558 - val_accuracy: 0.9516\n",
      "Epoch 22/100\n",
      "16/16 [==============================] - 0s 12ms/step - loss: 0.1516 - accuracy: 0.9527 - val_loss: 0.1525 - val_accuracy: 0.9520\n",
      "Epoch 23/100\n",
      "16/16 [==============================] - 0s 13ms/step - loss: 0.1491 - accuracy: 0.9524 - val_loss: 0.1494 - val_accuracy: 0.9524\n",
      "Epoch 24/100\n",
      "16/16 [==============================] - 0s 15ms/step - loss: 0.1443 - accuracy: 0.9536 - val_loss: 0.1466 - val_accuracy: 0.9530\n",
      "Epoch 25/100\n",
      "16/16 [==============================] - 0s 13ms/step - loss: 0.1446 - accuracy: 0.9528 - val_loss: 0.1441 - val_accuracy: 0.9529\n",
      "Epoch 26/100\n",
      "16/16 [==============================] - 0s 13ms/step - loss: 0.1409 - accuracy: 0.9537 - val_loss: 0.1417 - val_accuracy: 0.9529\n",
      "Epoch 27/100\n",
      "16/16 [==============================] - 0s 13ms/step - loss: 0.1403 - accuracy: 0.9525 - val_loss: 0.1394 - val_accuracy: 0.9530\n",
      "Epoch 28/100\n",
      "16/16 [==============================] - 0s 13ms/step - loss: 0.1352 - accuracy: 0.9541 - val_loss: 0.1373 - val_accuracy: 0.9531\n",
      "Epoch 29/100\n",
      "16/16 [==============================] - 0s 13ms/step - loss: 0.1361 - accuracy: 0.9538 - val_loss: 0.1353 - val_accuracy: 0.9535\n",
      "Epoch 30/100\n",
      "16/16 [==============================] - 0s 13ms/step - loss: 0.1349 - accuracy: 0.9534 - val_loss: 0.1334 - val_accuracy: 0.9537\n",
      "Epoch 31/100\n",
      "16/16 [==============================] - 0s 13ms/step - loss: 0.1319 - accuracy: 0.9543 - val_loss: 0.1316 - val_accuracy: 0.9539\n",
      "Epoch 32/100\n",
      "16/16 [==============================] - 0s 12ms/step - loss: 0.1305 - accuracy: 0.9541 - val_loss: 0.1299 - val_accuracy: 0.9544\n",
      "Epoch 33/100\n",
      "16/16 [==============================] - 0s 13ms/step - loss: 0.1276 - accuracy: 0.9548 - val_loss: 0.1282 - val_accuracy: 0.9549\n",
      "Epoch 34/100\n",
      "16/16 [==============================] - 0s 13ms/step - loss: 0.1264 - accuracy: 0.9562 - val_loss: 0.1267 - val_accuracy: 0.9561\n",
      "Epoch 35/100\n",
      "16/16 [==============================] - 0s 13ms/step - loss: 0.1257 - accuracy: 0.9564 - val_loss: 0.1252 - val_accuracy: 0.9569\n",
      "Epoch 36/100\n",
      "16/16 [==============================] - 0s 13ms/step - loss: 0.1219 - accuracy: 0.9579 - val_loss: 0.1238 - val_accuracy: 0.9575\n",
      "Epoch 37/100\n",
      "16/16 [==============================] - 0s 12ms/step - loss: 0.1214 - accuracy: 0.9590 - val_loss: 0.1224 - val_accuracy: 0.9589\n",
      "Epoch 38/100\n",
      "16/16 [==============================] - 0s 13ms/step - loss: 0.1203 - accuracy: 0.9599 - val_loss: 0.1211 - val_accuracy: 0.9591\n",
      "Epoch 39/100\n",
      "16/16 [==============================] - 0s 13ms/step - loss: 0.1177 - accuracy: 0.9605 - val_loss: 0.1199 - val_accuracy: 0.9596\n",
      "Epoch 40/100\n",
      "16/16 [==============================] - 0s 12ms/step - loss: 0.1162 - accuracy: 0.9607 - val_loss: 0.1188 - val_accuracy: 0.9602\n",
      "Epoch 41/100\n",
      "16/16 [==============================] - 0s 13ms/step - loss: 0.1170 - accuracy: 0.9614 - val_loss: 0.1177 - val_accuracy: 0.9609\n",
      "Epoch 42/100\n",
      "16/16 [==============================] - 0s 13ms/step - loss: 0.1160 - accuracy: 0.9601 - val_loss: 0.1166 - val_accuracy: 0.9613\n",
      "Epoch 43/100\n",
      "16/16 [==============================] - 0s 13ms/step - loss: 0.1148 - accuracy: 0.9616 - val_loss: 0.1156 - val_accuracy: 0.9614\n",
      "Epoch 44/100\n",
      "16/16 [==============================] - 0s 13ms/step - loss: 0.1146 - accuracy: 0.9618 - val_loss: 0.1146 - val_accuracy: 0.9616\n",
      "Epoch 45/100\n",
      "16/16 [==============================] - 0s 12ms/step - loss: 0.1111 - accuracy: 0.9628 - val_loss: 0.1137 - val_accuracy: 0.9619\n",
      "Epoch 46/100\n",
      "16/16 [==============================] - 0s 13ms/step - loss: 0.1125 - accuracy: 0.9629 - val_loss: 0.1128 - val_accuracy: 0.9625\n",
      "Epoch 47/100\n",
      "16/16 [==============================] - 0s 13ms/step - loss: 0.1109 - accuracy: 0.9632 - val_loss: 0.1118 - val_accuracy: 0.9628\n",
      "Epoch 48/100\n",
      "16/16 [==============================] - 0s 13ms/step - loss: 0.1105 - accuracy: 0.9631 - val_loss: 0.1110 - val_accuracy: 0.9630\n",
      "Epoch 49/100\n",
      "16/16 [==============================] - 0s 13ms/step - loss: 0.1079 - accuracy: 0.9643 - val_loss: 0.1100 - val_accuracy: 0.9639\n",
      "Epoch 50/100\n",
      "16/16 [==============================] - 0s 13ms/step - loss: 0.1085 - accuracy: 0.9644 - val_loss: 0.1091 - val_accuracy: 0.9640\n",
      "Epoch 51/100\n",
      "16/16 [==============================] - 0s 12ms/step - loss: 0.1087 - accuracy: 0.9640 - val_loss: 0.1083 - val_accuracy: 0.9642\n",
      "Epoch 52/100\n",
      "16/16 [==============================] - 0s 13ms/step - loss: 0.1061 - accuracy: 0.9647 - val_loss: 0.1077 - val_accuracy: 0.9641\n",
      "Epoch 53/100\n",
      "16/16 [==============================] - 0s 12ms/step - loss: 0.1049 - accuracy: 0.9652 - val_loss: 0.1069 - val_accuracy: 0.9642\n",
      "Epoch 54/100\n",
      "16/16 [==============================] - 0s 13ms/step - loss: 0.1067 - accuracy: 0.9643 - val_loss: 0.1062 - val_accuracy: 0.9644\n",
      "Epoch 55/100\n",
      "16/16 [==============================] - 0s 13ms/step - loss: 0.1039 - accuracy: 0.9650 - val_loss: 0.1056 - val_accuracy: 0.9644\n",
      "Epoch 56/100\n",
      "16/16 [==============================] - 0s 13ms/step - loss: 0.1016 - accuracy: 0.9663 - val_loss: 0.1049 - val_accuracy: 0.9652\n",
      "Epoch 57/100\n",
      "16/16 [==============================] - 0s 15ms/step - loss: 0.1027 - accuracy: 0.9653 - val_loss: 0.1044 - val_accuracy: 0.9651\n",
      "Epoch 58/100\n",
      "16/16 [==============================] - 0s 13ms/step - loss: 0.1002 - accuracy: 0.9662 - val_loss: 0.1037 - val_accuracy: 0.9653\n",
      "Epoch 59/100\n",
      "16/16 [==============================] - 0s 13ms/step - loss: 0.1018 - accuracy: 0.9663 - val_loss: 0.1032 - val_accuracy: 0.9653\n",
      "Epoch 60/100\n",
      "16/16 [==============================] - 0s 12ms/step - loss: 0.1006 - accuracy: 0.9665 - val_loss: 0.1026 - val_accuracy: 0.9656\n",
      "Epoch 61/100\n",
      "16/16 [==============================] - 0s 13ms/step - loss: 0.1016 - accuracy: 0.9661 - val_loss: 0.1021 - val_accuracy: 0.9662\n",
      "Epoch 62/100\n",
      "16/16 [==============================] - 0s 14ms/step - loss: 0.0981 - accuracy: 0.9672 - val_loss: 0.1016 - val_accuracy: 0.9661\n",
      "Epoch 63/100\n",
      "16/16 [==============================] - 0s 12ms/step - loss: 0.1013 - accuracy: 0.9663 - val_loss: 0.1011 - val_accuracy: 0.9664\n",
      "Epoch 64/100\n",
      "16/16 [==============================] - 0s 13ms/step - loss: 0.0984 - accuracy: 0.9675 - val_loss: 0.1007 - val_accuracy: 0.9664\n",
      "Epoch 65/100\n",
      "16/16 [==============================] - 0s 13ms/step - loss: 0.0972 - accuracy: 0.9676 - val_loss: 0.1003 - val_accuracy: 0.9664\n",
      "Epoch 66/100\n",
      "16/16 [==============================] - 0s 12ms/step - loss: 0.0968 - accuracy: 0.9678 - val_loss: 0.0998 - val_accuracy: 0.9668\n",
      "Epoch 67/100\n",
      "16/16 [==============================] - 0s 13ms/step - loss: 0.0966 - accuracy: 0.9680 - val_loss: 0.0993 - val_accuracy: 0.9669\n",
      "Epoch 68/100\n",
      "16/16 [==============================] - 0s 14ms/step - loss: 0.0989 - accuracy: 0.9677 - val_loss: 0.0990 - val_accuracy: 0.9671\n",
      "Epoch 69/100\n",
      "16/16 [==============================] - 0s 13ms/step - loss: 0.0990 - accuracy: 0.9671 - val_loss: 0.0986 - val_accuracy: 0.9670\n",
      "Epoch 70/100\n",
      "16/16 [==============================] - 0s 12ms/step - loss: 0.0967 - accuracy: 0.9680 - val_loss: 0.0981 - val_accuracy: 0.9672\n",
      "Epoch 71/100\n",
      "16/16 [==============================] - 0s 13ms/step - loss: 0.0975 - accuracy: 0.9684 - val_loss: 0.0979 - val_accuracy: 0.9675\n",
      "Epoch 72/100\n",
      "16/16 [==============================] - 0s 13ms/step - loss: 0.0963 - accuracy: 0.9678 - val_loss: 0.0973 - val_accuracy: 0.9677\n",
      "Epoch 73/100\n",
      "16/16 [==============================] - 0s 14ms/step - loss: 0.0934 - accuracy: 0.9691 - val_loss: 0.0970 - val_accuracy: 0.9678\n",
      "Epoch 74/100\n",
      "16/16 [==============================] - 0s 13ms/step - loss: 0.0938 - accuracy: 0.9690 - val_loss: 0.0966 - val_accuracy: 0.9681\n",
      "Epoch 75/100\n",
      "16/16 [==============================] - 0s 13ms/step - loss: 0.0940 - accuracy: 0.9690 - val_loss: 0.0963 - val_accuracy: 0.9682\n",
      "Epoch 76/100\n",
      "16/16 [==============================] - 0s 13ms/step - loss: 0.0937 - accuracy: 0.9689 - val_loss: 0.0959 - val_accuracy: 0.9681\n",
      "Epoch 77/100\n",
      "16/16 [==============================] - 0s 13ms/step - loss: 0.0919 - accuracy: 0.9693 - val_loss: 0.0957 - val_accuracy: 0.9682\n",
      "Epoch 78/100\n",
      "16/16 [==============================] - 0s 13ms/step - loss: 0.0943 - accuracy: 0.9688 - val_loss: 0.0953 - val_accuracy: 0.9682\n",
      "Epoch 79/100\n",
      "16/16 [==============================] - 0s 14ms/step - loss: 0.0930 - accuracy: 0.9694 - val_loss: 0.0952 - val_accuracy: 0.9683\n",
      "Epoch 80/100\n",
      "16/16 [==============================] - 0s 12ms/step - loss: 0.0915 - accuracy: 0.9701 - val_loss: 0.0946 - val_accuracy: 0.9687\n",
      "Epoch 81/100\n",
      "16/16 [==============================] - 0s 13ms/step - loss: 0.0919 - accuracy: 0.9701 - val_loss: 0.0945 - val_accuracy: 0.9684\n",
      "Epoch 82/100\n",
      "16/16 [==============================] - 0s 13ms/step - loss: 0.0917 - accuracy: 0.9696 - val_loss: 0.0941 - val_accuracy: 0.9685\n",
      "Epoch 83/100\n",
      "16/16 [==============================] - 0s 13ms/step - loss: 0.0926 - accuracy: 0.9690 - val_loss: 0.0939 - val_accuracy: 0.9686\n",
      "Epoch 84/100\n",
      "16/16 [==============================] - 0s 12ms/step - loss: 0.0913 - accuracy: 0.9700 - val_loss: 0.0935 - val_accuracy: 0.9689\n",
      "Epoch 85/100\n",
      "16/16 [==============================] - 0s 13ms/step - loss: 0.0896 - accuracy: 0.9700 - val_loss: 0.0934 - val_accuracy: 0.9688\n",
      "Epoch 86/100\n",
      "16/16 [==============================] - 0s 13ms/step - loss: 0.0910 - accuracy: 0.9698 - val_loss: 0.0930 - val_accuracy: 0.9689\n",
      "Epoch 87/100\n",
      "16/16 [==============================] - 0s 13ms/step - loss: 0.0907 - accuracy: 0.9699 - val_loss: 0.0929 - val_accuracy: 0.9686\n",
      "Epoch 88/100\n",
      "16/16 [==============================] - 0s 13ms/step - loss: 0.0903 - accuracy: 0.9702 - val_loss: 0.0924 - val_accuracy: 0.9693\n",
      "Epoch 89/100\n",
      "16/16 [==============================] - 0s 12ms/step - loss: 0.0910 - accuracy: 0.9701 - val_loss: 0.0923 - val_accuracy: 0.9691\n",
      "Epoch 90/100\n",
      "16/16 [==============================] - 0s 13ms/step - loss: 0.0879 - accuracy: 0.9707 - val_loss: 0.0920 - val_accuracy: 0.9691\n",
      "Epoch 91/100\n",
      "16/16 [==============================] - 0s 13ms/step - loss: 0.0870 - accuracy: 0.9709 - val_loss: 0.0917 - val_accuracy: 0.9694\n",
      "Epoch 92/100\n",
      "16/16 [==============================] - 0s 13ms/step - loss: 0.0882 - accuracy: 0.9705 - val_loss: 0.0914 - val_accuracy: 0.9692\n",
      "Epoch 93/100\n",
      "16/16 [==============================] - 0s 12ms/step - loss: 0.0883 - accuracy: 0.9704 - val_loss: 0.0913 - val_accuracy: 0.9691\n",
      "Epoch 94/100\n",
      "16/16 [==============================] - 0s 12ms/step - loss: 0.0900 - accuracy: 0.9701 - val_loss: 0.0910 - val_accuracy: 0.9693\n",
      "Epoch 95/100\n",
      "16/16 [==============================] - 0s 13ms/step - loss: 0.0875 - accuracy: 0.9698 - val_loss: 0.0907 - val_accuracy: 0.9697\n",
      "Epoch 96/100\n",
      "16/16 [==============================] - 0s 13ms/step - loss: 0.0901 - accuracy: 0.9696 - val_loss: 0.0906 - val_accuracy: 0.9695\n",
      "Epoch 97/100\n",
      "16/16 [==============================] - 0s 13ms/step - loss: 0.0879 - accuracy: 0.9707 - val_loss: 0.0904 - val_accuracy: 0.9694\n",
      "Epoch 98/100\n",
      "16/16 [==============================] - 0s 13ms/step - loss: 0.0890 - accuracy: 0.9702 - val_loss: 0.0900 - val_accuracy: 0.9695\n",
      "Epoch 99/100\n",
      "16/16 [==============================] - 0s 12ms/step - loss: 0.0863 - accuracy: 0.9708 - val_loss: 0.0898 - val_accuracy: 0.9697\n",
      "Epoch 100/100\n",
      "16/16 [==============================] - 0s 13ms/step - loss: 0.0852 - accuracy: 0.9712 - val_loss: 0.0896 - val_accuracy: 0.9696\n"
     ]
    }
   ],
   "source": [
    "# training the model on training dataset\n",
    "history = mlp.fit(X_train, y_train, epochs=100, batch_size=5000,validation_split=0.2)"
   ]
  },
  {
   "cell_type": "code",
   "execution_count": null,
   "metadata": {
    "colab": {
     "base_uri": "https://localhost:8080/"
    },
    "id": "sri14hur2zuN",
    "outputId": "9f948a59-930a-43da-c9ed-be7b67ce59bd"
   },
   "outputs": [
    {
     "name": "stdout",
     "output_type": "stream",
     "text": [
      "Saved model to disk\n",
      "Loaded model from disk\n"
     ]
    }
   ],
   "source": [
    "filepath = './models/mlp_multi.json'\n",
    "weightspath = './weights/mlp_multi.h5'\n",
    "if (not path.isfile(filepath)):\n",
    "  # serialize model to JSON\n",
    "  mlp_json = mlp.to_json()\n",
    "  with open(filepath, \"w\") as json_file:\n",
    "    json_file.write(mlp_json)\n",
    "\n",
    "  # serialize weights to HDF5\n",
    "  mlp.save_weights(weightspath)\n",
    "  print(\"Saved model to disk\")\n",
    "  \n",
    "  # load json and create model\n",
    "  json_file = open(filepath, 'r')\n",
    "  loaded_model_json = json_file.read()\n",
    "  json_file.close()\n",
    "  mlp = model_from_json(loaded_model_json)\n",
    "\n",
    "  # load weights into new model\n",
    "  mlp.load_weights(weightspath)\n",
    "  print(\"Loaded model from disk\")"
   ]
  },
  {
   "cell_type": "code",
   "execution_count": null,
   "metadata": {
    "id": "H29GR38R21Bl"
   },
   "outputs": [],
   "source": [
    "# defining loss function, optimizer, metrics and then compiling model\n",
    "mlp.compile(loss='categorical_crossentropy', optimizer='adam', metrics=['accuracy'])"
   ]
  },
  {
   "cell_type": "code",
   "execution_count": null,
   "metadata": {
    "colab": {
     "base_uri": "https://localhost:8080/"
    },
    "id": "zkzQb_yHLhaX",
    "outputId": "27f6ad15-d9bc-45ce-8131-01e3d0e72063"
   },
   "outputs": [
    {
     "name": "stdout",
     "output_type": "stream",
     "text": [
      "985/985 [==============================] - 1s 936us/step - loss: 0.0941 - accuracy: 0.9682\n",
      "Test results - Loss: 0.0895298421382904 - Accuracy: 96.92639708518982%\n"
     ]
    }
   ],
   "source": [
    "# predicting target attribute on testing dataset\n",
    "test_results = mlp.evaluate(X_test, y_test, verbose=1)\n",
    "print(f'Test results - Loss: {test_results[0]} - Accuracy: {test_results[1]*100}%')"
   ]
  },
  {
   "cell_type": "code",
   "execution_count": null,
   "metadata": {
    "colab": {
     "base_uri": "https://localhost:8080/",
     "height": 295
    },
    "id": "znDf_uubLuH2",
    "outputId": "8c058731-edb5-41bb-bb5b-61f1905b3cda"
   },
   "outputs": [
    {
     "data": {
      "image/png": "[encoded data removed]",
      "text/plain": [
       "<Figure size 432x288 with 1 Axes>"
      ]
     },
     "metadata": {
      "needs_background": "light",
      "tags": []
     },
     "output_type": "display_data"
    }
   ],
   "source": [
    "# Plot of accuracy vs epoch for train and test dataset\n",
    "plt.plot(history.history['accuracy'])\n",
    "plt.plot(history.history['val_accuracy'])\n",
    "plt.title(\"Plot of accuracy vs epoch for train and test dataset\")\n",
    "plt.ylabel('accuracy')\n",
    "plt.xlabel('epoch')\n",
    "plt.legend(['train', 'test'], loc='best')\n",
    "plt.savefig('plots/mlp_multi_accuracy.png')\n",
    "plt.show()"
   ]
  },
  {
   "cell_type": "code",
   "execution_count": null,
   "metadata": {
    "colab": {
     "base_uri": "https://localhost:8080/",
     "height": 295
    },
    "id": "Ncfod0AWLw7W",
    "outputId": "6a907b11-cc54-4927-8d84-46c0fb05c73f"
   },
   "outputs": [
    {
     "data": {
      "image/png": "[encoded data removed]",
      "text/plain": [
       "<Figure size 432x288 with 1 Axes>"
      ]
     },
     "metadata": {
      "needs_background": "light",
      "tags": []
     },
     "output_type": "display_data"
    }
   ],
   "source": [
    "# Plot of loss vs epoch for train and test dataset\n",
    "plt.plot(history.history['loss'])\n",
    "plt.plot(history.history['val_loss'])\n",
    "plt.title(\"Plot of loss vs epoch for train and test dataset\")\n",
    "plt.ylabel('loss')\n",
    "plt.xlabel('epoch')\n",
    "plt.legend(['train', 'test'], loc='upper right')\n",
    "plt.savefig('plots/mlp_multi_loss.png')\n",
    "plt.show()"
   ]
  },
  {
   "cell_type": "code",
   "execution_count": null,
   "metadata": {
    "colab": {
     "base_uri": "https://localhost:8080/",
     "height": 312
    },
    "id": "7AhHtm2r7T2-",
    "outputId": "cf54db0f-d769-400b-9b04-88f8c67f14f6"
   },
   "outputs": [
    {
     "data": {
      "image/png": "[encoded data removed]",
      "text/plain": [
       "<IPython.core.display.Image object>"
      ]
     },
     "execution_count": 203,
     "metadata": {
      "tags": []
     },
     "output_type": "execute_result"
    }
   ],
   "source": [
    "# representation of model layers\n",
    "plot_model(mlp, to_file='plots/mlp_multi.png', show_shapes=True,)"
   ]
  },
  {
   "cell_type": "code",
   "execution_count": null,
   "metadata": {
    "id": "aLLK_7t_r1Ey"
   },
   "outputs": [],
   "source": []
  }
 ],
 "metadata": {
  "colab": {
   "collapsed_sections": [],
   "name": "Classifiers_NSL-KDD.ipynb",
   "provenance": [],
   "toc_visible": true
  },
  "kernelspec": {
   "display_name": "Python 3",
   "language": "python",
   "name": "python3"
  },
  "language_info": {
   "codemirror_mode": {
    "name": "ipython",
    "version": 3
   },
   "file_extension": ".py",
   "mimetype": "text/x-python",
   "name": "python",
   "nbconvert_exporter": "python",
   "pygments_lexer": "ipython3",
   "version": "3.8.8"
  }
 },
 "nbformat": 4,
 "nbformat_minor": 1
}
