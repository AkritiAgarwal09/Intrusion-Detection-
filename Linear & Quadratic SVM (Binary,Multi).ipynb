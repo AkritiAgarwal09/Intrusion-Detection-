{
 "cells": [
  {
   "cell_type": "code",
   "execution_count": 1,
   "metadata": {
    "id": "7MblIbMu31gO"
   },
   "outputs": [],
   "source": [
    "from sklearn.metrics import accuracy_score # for calculating accuracy of model\n",
    "from sklearn.model_selection import train_test_split # for splitting the dataset for training and testing\n",
    "from sklearn.metrics import classification_report # for generating a classification report of model\n",
    "import pickle # saving and loading trained model\n",
    "from os import path\n",
    "import numpy as np\n",
    "import pandas as pd\n",
    "import matplotlib.pyplot as plt"
   ]
  },
  {
   "cell_type": "code",
   "execution_count": 34,
   "metadata": {
    "id": "DriCvhiI4JTH"
   },
   "outputs": [],
   "source": [
    "bin_data = pd.read_csv('datasets/bin_data.csv')\n",
    "bin_data.drop(bin_data.columns[0],axis=1,inplace=True)\n",
    "multi_data = pd.read_csv('datasets/multi_data.csv')\n",
    "multi_data.drop(multi_data.columns[0],axis=1,inplace=True)\n",
    "le1_classes_ = np.load('labels/le1_classes.npy',allow_pickle=True)\n",
    "le2_classes_ = np.load('le2_classes.npy',allow_pickle=True)"
   ]
  },
  {
   "cell_type": "markdown",
   "metadata": {
    "id": "X6gO0-O_ev95"
   },
   "source": [
    "# **Linear Support Vector Machine Classifier (Binary Classification)**"
   ]
  },
  {
   "cell_type": "code",
   "execution_count": null,
   "metadata": {
    "id": "i46cQs7J9sR8"
   },
   "outputs": [],
   "source": [
    "# importing library for support vector machine classifier\n",
    "from sklearn.svm import SVC"
   ]
  },
  {
   "cell_type": "code",
   "execution_count": 23,
   "metadata": {
    "id": "G73DgDbpfHdP"
   },
   "outputs": [],
   "source": [
    "X = bin_data.iloc[:,0:93].to_numpy() # dataset excluding target attribute (encoded, one-hot-encoded,original)\n",
    "Y = bin_data['intrusion'] # target attribute"
   ]
  },
  {
   "cell_type": "code",
   "execution_count": 24,
   "metadata": {
    "id": "-8CHud3rbmEB"
   },
   "outputs": [],
   "source": [
    "# splitting the dataset 75% for training and 25% testing\n",
    "X_train, X_test, y_train, y_test = train_test_split(X,Y, test_size=0.25, random_state=42) "
   ]
  },
  {
   "cell_type": "code",
   "execution_count": null,
   "metadata": {
    "colab": {
     "base_uri": "https://localhost:8080/"
    },
    "id": "OOg12Nn7e8do",
    "outputId": "e35d9091-3abb-4a6c-8225-229046890d66"
   },
   "outputs": [
    {
     "data": {
      "text/plain": [
       "SVC(C=1.0, break_ties=False, cache_size=200, class_weight=None, coef0=0.0,\n",
       "    decision_function_shape='ovr', degree=3, gamma='auto', kernel='linear',\n",
       "    max_iter=-1, probability=False, random_state=None, shrinking=True,\n",
       "    tol=0.001, verbose=False)"
      ]
     },
     "execution_count": 116,
     "metadata": {
      "tags": []
     },
     "output_type": "execute_result"
    }
   ],
   "source": [
    "# using kernel as linear \n",
    "lsvm = SVC(kernel='linear',gamma='auto') \n",
    "lsvm.fit(X_train,y_train) # training model on training dataset"
   ]
  },
  {
   "cell_type": "code",
   "execution_count": null,
   "metadata": {
    "colab": {
     "base_uri": "https://localhost:8080/"
    },
    "id": "40emxT1YEW1B",
    "outputId": "51238a89-2564-4341-c04e-5078ce99976b"
   },
   "outputs": [
    {
     "name": "stdout",
     "output_type": "stream",
     "text": [
      "Saved model to disk\n",
      "Loaded model from disk\n"
     ]
    }
   ],
   "source": [
    "pkl_filename = \"./models/lsvm_binary.pkl\"\n",
    "if (not path.isfile(pkl_filename)):\n",
    "  # saving the trained model to disk\n",
    "  with open(pkl_filename, 'wb') as file:\n",
    "    pickle.dump(lsvm, file)\n",
    "  print(\"Saved model to disk\")\n",
    "  # loading the trained model from disk\n",
    "  with open(pkl_filename, 'rb') as file:\n",
    "    lsvm = pickle.load(file)\n",
    "  print(\"Loaded model from disk\") "
   ]
  },
  {
   "cell_type": "code",
   "execution_count": null,
   "metadata": {
    "colab": {
     "base_uri": "https://localhost:8080/"
    },
    "id": "NmtWOt9ZipS2",
    "outputId": "f28290f8-7937-487b-c057-85147e4e91a5"
   },
   "outputs": [
    {
     "name": "stdout",
     "output_type": "stream",
     "text": [
      "LSVM-Classifier Binary Set-Accuracy is  96.69778370483266\n"
     ]
    }
   ],
   "source": [
    "y_pred = lsvm.predict(X_test) # predicting target attribute on testing dataset\n",
    "ac = accuracy_score(y_test, y_pred)*100 # calculating accuracy of predicted data\n",
    "print(\"LSVM-Classifier Binary Set-Accuracy is \", ac)"
   ]
  },
  {
   "cell_type": "code",
   "execution_count": null,
   "metadata": {
    "colab": {
     "base_uri": "https://localhost:8080/"
    },
    "id": "T_-KRKlrg8gS",
    "outputId": "aa6ae973-f345-4a01-d68f-942b102d07ba"
   },
   "outputs": [
    {
     "name": "stdout",
     "output_type": "stream",
     "text": [
      "              precision    recall  f1-score   support\n",
      "\n",
      "    abnormal       0.97      0.96      0.96     14720\n",
      "      normal       0.96      0.97      0.97     16774\n",
      "\n",
      "    accuracy                           0.97     31494\n",
      "   macro avg       0.97      0.97      0.97     31494\n",
      "weighted avg       0.97      0.97      0.97     31494\n",
      "\n"
     ]
    }
   ],
   "source": [
    "# classification report\n",
    "print(classification_report(y_test, y_pred,target_names=le1_classes_))"
   ]
  },
  {
   "cell_type": "markdown",
   "metadata": {
    "id": "FD827OpHPVkl"
   },
   "source": [
    "# **Quadratic Support Vector Machine Classifier (Binary Classification)**"
   ]
  },
  {
   "cell_type": "code",
   "execution_count": null,
   "metadata": {
    "colab": {
     "base_uri": "https://localhost:8080/"
    },
    "id": "jvIqsl-8PSBw",
    "outputId": "0d3bcea4-5eb2-4ee7-c1bf-4efe29ca8a0b"
   },
   "outputs": [
    {
     "data": {
      "text/plain": [
       "SVC(C=1.0, break_ties=False, cache_size=200, class_weight=None, coef0=0.0,\n",
       "    decision_function_shape='ovr', degree=3, gamma='auto', kernel='poly',\n",
       "    max_iter=-1, probability=False, random_state=None, shrinking=True,\n",
       "    tol=0.001, verbose=False)"
      ]
     },
     "execution_count": 120,
     "metadata": {
      "tags": []
     },
     "output_type": "execute_result"
    }
   ],
   "source": [
    "qsvm=SVC(kernel='poly',gamma='auto') # using kernal as polynomial for quadratic svm\n",
    "qsvm.fit(X_train,y_train) # training model on training dataset"
   ]
  },
  {
   "cell_type": "code",
   "execution_count": null,
   "metadata": {
    "colab": {
     "base_uri": "https://localhost:8080/"
    },
    "id": "fx6kRBvlE-RI",
    "outputId": "f3dbecc9-17fd-42b2-a51e-be0860d3a436"
   },
   "outputs": [
    {
     "name": "stdout",
     "output_type": "stream",
     "text": [
      "Saved model to disk\n",
      "Loaded model from disk\n"
     ]
    }
   ],
   "source": [
    "pkl_filename = \"./models/qsvm_binary.pkl\"\n",
    "if (not path.isfile(pkl_filename)):\n",
    "  # saving the trained model to disk \n",
    "  with open(pkl_filename, 'wb') as file:\n",
    "    pickle.dump(qsvm, file)\n",
    "  print(\"Saved model to disk\")\n",
    "  # loading the trained model from disk\n",
    "  with open(pkl_filename, 'rb') as file:\n",
    "    qsvm = pickle.load(file)\n",
    "  print(\"Loaded model from disk\")"
   ]
  },
  {
   "cell_type": "code",
   "execution_count": null,
   "metadata": {
    "colab": {
     "base_uri": "https://localhost:8080/"
    },
    "id": "i8uUCqtAPAKw",
    "outputId": "895da3ff-7c5f-4576-c832-6c18ba21cb14"
   },
   "outputs": [
    {
     "name": "stdout",
     "output_type": "stream",
     "text": [
      "QSVM-Classifier Binary Set-Accuracy is  95.71029402425859\n"
     ]
    }
   ],
   "source": [
    "y_pred=qsvm.predict(X_test) # predicting target attribute on testing dataset\n",
    "ac=accuracy_score(y_test, y_pred)*100 # calculating accuracy of predicted data\n",
    "print(\"QSVM-Classifier Binary Set-Accuracy is \", ac)"
   ]
  },
  {
   "cell_type": "code",
   "execution_count": null,
   "metadata": {
    "colab": {
     "base_uri": "https://localhost:8080/"
    },
    "id": "zfDbF9XNg6Bp",
    "outputId": "06717cbb-c99f-4757-e80c-7f3761b1274c"
   },
   "outputs": [
    {
     "name": "stdout",
     "output_type": "stream",
     "text": [
      "              precision    recall  f1-score   support\n",
      "\n",
      "    abnormal       0.99      0.92      0.95     14720\n",
      "      normal       0.93      0.99      0.96     16774\n",
      "\n",
      "    accuracy                           0.96     31494\n",
      "   macro avg       0.96      0.95      0.96     31494\n",
      "weighted avg       0.96      0.96      0.96     31494\n",
      "\n"
     ]
    }
   ],
   "source": [
    "# classification report\n",
    "print(classification_report(y_test, y_pred,target_names=le1_classes_))"
   ]
  },
  {
   "cell_type": "markdown",
   "metadata": {
    "id": "GewtqonkCIgS"
   },
   "source": [
    "# **Linear Support Vector Machine Classifier (Multi-class Classification)**"
   ]
  },
  {
   "cell_type": "code",
   "execution_count": null,
   "metadata": {
    "id": "6h3UrLZkyZ6F"
   },
   "outputs": [],
   "source": [
    "X = multi_data.iloc[:,0:93].to_numpy() # dataset excluding target attribute (encoded, one-hot-encoded, original)\n",
    "Y = multi_data['intrusion'] # target attribute"
   ]
  },
  {
   "cell_type": "code",
   "execution_count": null,
   "metadata": {
    "id": "eciLJ53WycVR"
   },
   "outputs": [],
   "source": [
    "# splitting the dataset 75% for training and 25% testing\n",
    "X_train, X_test, y_train, y_test = train_test_split(X,Y, test_size=0.25, random_state=42)"
   ]
  },
  {
   "cell_type": "code",
   "execution_count": null,
   "metadata": {
    "colab": {
     "base_uri": "https://localhost:8080/"
    },
    "id": "Puaavrt7Cpb1",
    "outputId": "68568619-cd09-41b0-fe72-21edc89c4728"
   },
   "outputs": [
    {
     "data": {
      "text/plain": [
       "SVC(C=1.0, break_ties=False, cache_size=200, class_weight=None, coef0=0.0,\n",
       "    decision_function_shape='ovr', degree=3, gamma='auto', kernel='linear',\n",
       "    max_iter=-1, probability=False, random_state=None, shrinking=True,\n",
       "    tol=0.001, verbose=False)"
      ]
     },
     "execution_count": 172,
     "metadata": {
      "tags": []
     },
     "output_type": "execute_result"
    }
   ],
   "source": [
    "lsvm=SVC(kernel='linear',gamma='auto')\n",
    "lsvm.fit(X_train,y_train) # training model on training dataset"
   ]
  },
  {
   "cell_type": "code",
   "execution_count": null,
   "metadata": {
    "colab": {
     "base_uri": "https://localhost:8080/"
    },
    "id": "ju9JqNXAGBFa",
    "outputId": "d733d435-bc9c-460d-9580-821b169b3c62"
   },
   "outputs": [
    {
     "name": "stdout",
     "output_type": "stream",
     "text": [
      "Saved model to disk\n",
      "Loade model from disk\n"
     ]
    }
   ],
   "source": [
    "# saving trained model to disk\n",
    "pkl_filename = \"./models/lsvm_multi.pkl\"\n",
    "if (not path.isfile(pkl_filename)):\n",
    "  with open(pkl_filename, 'wb') as file:\n",
    "    pickle.dump(lsvm, file)\n",
    "  print(\"Saved model to disk\")\n",
    "  # loading trained model from disk\n",
    "  with open(pkl_filename, 'rb') as file:\n",
    "    lsvm = pickle.load(file)\n",
    "  print(\"Loade model from disk\")\n",
    "  "
   ]
  },
  {
   "cell_type": "code",
   "execution_count": null,
   "metadata": {
    "colab": {
     "base_uri": "https://localhost:8080/"
    },
    "id": "yGGqsHE9ConV",
    "outputId": "e6c7c391-e2f9-4850-a0ac-53c5e3d7b4c8"
   },
   "outputs": [
    {
     "name": "stdout",
     "output_type": "stream",
     "text": [
      "LSVM-Classifier Multi-class Set-Accuracy is  95.24671365974471\n"
     ]
    }
   ],
   "source": [
    "y_pred=lsvm.predict(X_test) # predicting target attribute on testing dataset\n",
    "ac=accuracy_score(y_test, y_pred)*100  # calculating accuracy of predicted data\n",
    "print(\"LSVM-Classifier Multi-class Set-Accuracy is \", ac)"
   ]
  },
  {
   "cell_type": "code",
   "execution_count": null,
   "metadata": {
    "colab": {
     "base_uri": "https://localhost:8080/"
    },
    "id": "XG2oyW5PjPIP",
    "outputId": "333d9df0-8200-4f29-f9c5-ea6bde6bf74d"
   },
   "outputs": [
    {
     "name": "stdout",
     "output_type": "stream",
     "text": [
      "              precision    recall  f1-score   support\n",
      "\n",
      "         Dos       0.95      0.96      0.96     11484\n",
      "       Probe       0.86      0.79      0.82      2947\n",
      "         R2L       0.61      0.60      0.60       274\n",
      "         U2R       0.00      0.00      0.00        15\n",
      "      normal       0.97      0.98      0.98     16774\n",
      "\n",
      "    accuracy                           0.95     31494\n",
      "   macro avg       0.68      0.67      0.67     31494\n",
      "weighted avg       0.95      0.95      0.95     31494\n",
      "\n"
     ]
    },
    {
     "name": "stderr",
     "output_type": "stream",
     "text": [
      "/usr/local/lib/python3.7/dist-packages/sklearn/metrics/_classification.py:1272: UndefinedMetricWarning: Precision and F-score are ill-defined and being set to 0.0 in labels with no predicted samples. Use `zero_division` parameter to control this behavior.\n",
      "  _warn_prf(average, modifier, msg_start, len(result))\n"
     ]
    }
   ],
   "source": [
    "# classification report\n",
    "print(classification_report(y_test, y_pred,target_names=le2_classes_))"
   ]
  },
  {
   "cell_type": "markdown",
   "metadata": {
    "id": "3M2ESEqWPqY4"
   },
   "source": [
    "# **Quadratic Support Vector Machine Classifier (Multi-class Classification)**"
   ]
  },
  {
   "cell_type": "code",
   "execution_count": null,
   "metadata": {
    "colab": {
     "base_uri": "https://localhost:8080/"
    },
    "id": "h6iRNxewPkm1",
    "outputId": "205a15e0-7eb8-49f9-f3c3-3e97b17de6ae"
   },
   "outputs": [
    {
     "data": {
      "text/plain": [
       "SVC(C=1.0, break_ties=False, cache_size=200, class_weight=None, coef0=0.0,\n",
       "    decision_function_shape='ovr', degree=3, gamma='auto', kernel='poly',\n",
       "    max_iter=-1, probability=False, random_state=None, shrinking=True,\n",
       "    tol=0.001, verbose=False)"
      ]
     },
     "execution_count": 176,
     "metadata": {
      "tags": []
     },
     "output_type": "execute_result"
    }
   ],
   "source": [
    "qsvm=SVC(kernel='poly',gamma='auto')\n",
    "qsvm.fit(X_train,y_train) # training model on training dataset"
   ]
  },
  {
   "cell_type": "code",
   "execution_count": null,
   "metadata": {
    "colab": {
     "base_uri": "https://localhost:8080/"
    },
    "id": "r-G-RZRtGUWs",
    "outputId": "22f748cc-cc4f-47f3-a2a2-05338dc20e55"
   },
   "outputs": [
    {
     "name": "stdout",
     "output_type": "stream",
     "text": [
      "Saved model to disk\n",
      "Loaded model from disk\n"
     ]
    }
   ],
   "source": [
    "pkl_filename = \"./models/qsvm_multi.pkl\"\n",
    "if (not path.isfile(pkl_filename)):\n",
    "  # saving trained model to disk\n",
    "  with open(pkl_filename, 'wb') as file:\n",
    "    pickle.dump(qsvm, file)\n",
    "  print(\"Saved model to disk\")\n",
    "  # loading trained model from disk\n",
    "  with open(pkl_filename, 'rb') as file:\n",
    "    qsvm = pickle.load(file)\n",
    "  print(\"Loaded model from disk\")"
   ]
  },
  {
   "cell_type": "code",
   "execution_count": null,
   "metadata": {
    "colab": {
     "base_uri": "https://localhost:8080/"
    },
    "id": "YyiXVxb1PnER",
    "outputId": "441497be-d703-44ce-eea5-b3f77f8f1582"
   },
   "outputs": [
    {
     "name": "stdout",
     "output_type": "stream",
     "text": [
      "QSVM-Classifier Multi-class Set-Accuracy is  92.86213246967677\n"
     ]
    }
   ],
   "source": [
    "y_pred=qsvm.predict(X_test)  # predicting target attribute on testing dataset\n",
    "ac=accuracy_score(y_test, y_pred)*100  # calculating accuracy of predicted data\n",
    "print(\"QSVM-Classifier Multi-class Set-Accuracy is \", ac)"
   ]
  },
  {
   "cell_type": "code",
   "execution_count": null,
   "metadata": {
    "colab": {
     "base_uri": "https://localhost:8080/"
    },
    "id": "mqVIJvYPjSUq",
    "outputId": "d46f5b41-934f-41c9-8804-2a1bd93cf46d"
   },
   "outputs": [
    {
     "name": "stdout",
     "output_type": "stream",
     "text": [
      "              precision    recall  f1-score   support\n",
      "\n",
      "         Dos       0.96      0.94      0.95     11484\n",
      "       Probe       0.96      0.61      0.74      2947\n",
      "         R2L       0.00      0.00      0.00       274\n",
      "         U2R       0.00      0.00      0.00        15\n",
      "      normal       0.91      1.00      0.95     16774\n",
      "\n",
      "    accuracy                           0.93     31494\n",
      "   macro avg       0.56      0.51      0.53     31494\n",
      "weighted avg       0.92      0.93      0.92     31494\n",
      "\n"
     ]
    },
    {
     "name": "stderr",
     "output_type": "stream",
     "text": [
      "/usr/local/lib/python3.7/dist-packages/sklearn/metrics/_classification.py:1272: UndefinedMetricWarning: Precision and F-score are ill-defined and being set to 0.0 in labels with no predicted samples. Use `zero_division` parameter to control this behavior.\n",
      "  _warn_prf(average, modifier, msg_start, len(result))\n"
     ]
    }
   ],
   "source": [
    "# classification report\n",
    "print(classification_report(y_test, y_pred,target_names=le2_classes_))"
   ]
  }
 ],
 "metadata": {
  "colab": {
   "collapsed_sections": [],
   "name": "Classifiers_NSL-KDD.ipynb",
   "provenance": [],
   "toc_visible": true
  },
  "kernelspec": {
   "display_name": "Python 3",
   "language": "python",
   "name": "python3"
  },
  "language_info": {
   "codemirror_mode": {
    "name": "ipython",
    "version": 3
   },
   "file_extension": ".py",
   "mimetype": "text/x-python",
   "name": "python",
   "nbconvert_exporter": "python",
   "pygments_lexer": "ipython3",
   "version": "3.8.8"
  }
 },
 "nbformat": 4,
 "nbformat_minor": 1
}
